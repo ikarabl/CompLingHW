{
 "cells": [
  {
   "cell_type": "code",
   "execution_count": 2,
   "metadata": {
    "collapsed": true
   },
   "outputs": [],
   "source": [
    "import re"
   ]
  },
  {
   "cell_type": "markdown",
   "metadata": {},
   "source": [
    "Сделаем функцию для предобработки, которой будем потом пользоваться для разных языков. На вход этой функции будет подаваться список строчек, считанных из файла. Берём начиная с 6-й строки, потому что до этого там ненужные строчки, текст собственно декларации начинается с шестой строки.\n",
    "Функция приводит каждую строку к нижнему регистру, отрезает лишние пробелы по краям, с помощью регулярного выражения заменяет знаки препинания и цифры на пробелы. Потом получившееся разбиваем по пробелам (сколько бы их ни было) и собираем слова в список. Функция возвращает список слов без всего лишнего."
   ]
  },
  {
   "cell_type": "code",
   "execution_count": 3,
   "metadata": {
    "collapsed": true
   },
   "outputs": [],
   "source": [
    "#txt -- это будет список строк из файла\n",
    "def preprocess(txt):\n",
    "    words = []\n",
    "    for line in txt:\n",
    "        clean_line = re.sub('[\\W\\d_-]+', ' ', line.lower().strip())\n",
    "        line_words = re.split(' +', clean_line)\n",
    "        words += [w for w in line_words if w] \n",
    "    return words\n"
   ]
  },
  {
   "cell_type": "code",
   "execution_count": 5,
   "metadata": {},
   "outputs": [
    {
     "name": "stdout",
     "output_type": "stream",
     "text": [
      "['всеобщая', 'декларация', 'прав', 'человека', 'принята', 'и', 'провозглашена', 'резолюцией', 'а', 'iii']\n",
      "1578\n",
      "713\n"
     ]
    }
   ],
   "source": [
    "#русский\n",
    "with open(\"/Users/ika/Downloads/udhr_txt/udhr_rus.txt\", \n",
    "          encoding=\"utf-8\") as f:\n",
    "    lines_rus = f.readlines()[6:] \n",
    "\n",
    "russian = preprocess(lines_rus)\n",
    "print(russian[:10])\n",
    "print(len(russian))\n",
    "print(len(set(russian)))\n"
   ]
  },
  {
   "cell_type": "code",
   "execution_count": 6,
   "metadata": {},
   "outputs": [
    {
     "name": "stdout",
     "output_type": "stream",
     "text": [
      "['universal', 'declaration', 'of', 'human', 'rights', 'preamble', 'whereas', 'recognition', 'of', 'the']\n"
     ]
    }
   ],
   "source": [
    "# английский\n",
    "with open(\"/Users/ika/Downloads/udhr_txt/udhr_eng.txt\", \n",
    "          encoding=\"utf-8\") as f:\n",
    "    lines_eng = f.readlines()[6:]\n",
    "english = preprocess(lines_eng)\n",
    "print(english[:10])"
   ]
  },
  {
   "cell_type": "code",
   "execution_count": 7,
   "metadata": {},
   "outputs": [
    {
     "name": "stdout",
     "output_type": "stream",
     "text": [
      "['загальна', 'декларація', 'прав', 'людині', 'преамбула', 'беручи', 'до', 'уваги', 'що', 'визнання']\n"
     ]
    }
   ],
   "source": [
    "#украинский\n",
    "with open(\"/Users/ika/Downloads/udhr_txt/udhr_ukr.txt\", \n",
    "          encoding=\"utf-8\") as f:\n",
    "    lines_ukr = f.readlines()[6:]\n",
    "ukrainian = preprocess(lines_ukr)\n",
    "print(ukrainian[:10])\n",
    "\n",
    "   "
   ]
  },
  {
   "cell_type": "code",
   "execution_count": 8,
   "metadata": {},
   "outputs": [
    {
     "name": "stdout",
     "output_type": "stream",
     "text": [
      "['die', 'allgemeine', 'erklärung', 'der', 'menschenrechte', 'resolution', 'a', 'iii', 'vom', 'präambel']\n"
     ]
    }
   ],
   "source": [
    "#немецкий\n",
    "with open(\"/Users/ika/Downloads/udhr_txt/udhr_deu_1996.txt\", \n",
    "          encoding=\"utf-8\") as f:\n",
    "    lines_deu = f.readlines()[6:]\n",
    "german = preprocess(lines_deu)\n",
    "print(german[:10])"
   ]
  },
  {
   "cell_type": "code",
   "execution_count": 9,
   "metadata": {},
   "outputs": [
    {
     "name": "stdout",
     "output_type": "stream",
     "text": [
      "['den', 'december', 'vedtog', 'og', 'offentliggjorde', 'fns', 'tredie', 'generalforsamling', 'verdenserklæringen', 'om']\n"
     ]
    }
   ],
   "source": [
    "#датский\n",
    "with open(\"/Users/ika/Downloads/udhr_txt/udhr_dan.txt\", \n",
    "          encoding=\"utf-8\") as f:\n",
    "    lines_dan = f.readlines()[6:]\n",
    "danish = preprocess(lines_dan)\n",
    "print(danish[:10])"
   ]
  },
  {
   "cell_type": "code",
   "execution_count": 10,
   "metadata": {},
   "outputs": [
    {
     "name": "stdout",
     "output_type": "stream",
     "text": [
      "['dearbhú', 'uile', 'choiteann', 'cearta', 'an', 'duine', 'de', 'bhrí', 'gurb', 'é']\n"
     ]
    }
   ],
   "source": [
    "#ирландский\n",
    "with open(\"/Users/ika/Downloads/udhr_txt/udhr_gle.txt\", \n",
    "          encoding=\"utf-8\") as f:\n",
    "    lines_gle = f.readlines()[6:]\n",
    "irish = preprocess(lines_gle)\n",
    "print(irish[:10])"
   ]
  },
  {
   "cell_type": "code",
   "execution_count": 11,
   "metadata": {},
   "outputs": [
    {
     "name": "stdout",
     "output_type": "stream",
     "text": [
      "['déclaration', 'universelle', 'des', 'droits', 'de', 'l', 'homme', 'préambule', 'considérant', 'que']\n"
     ]
    }
   ],
   "source": [
    "#французский\n",
    "with open(\"/Users/ika/Downloads/udhr_txt/udhr_fra.txt\", \n",
    "          encoding=\"utf-8\") as f:\n",
    "    lines_fra = f.readlines()[6:]\n",
    "french = preprocess(lines_fra)\n",
    "print(french[:10])"
   ]
  },
  {
   "cell_type": "code",
   "execution_count": 12,
   "metadata": {
    "collapsed": true
   },
   "outputs": [],
   "source": [
    "from collections import Counter"
   ]
  },
  {
   "cell_type": "code",
   "execution_count": 13,
   "metadata": {
    "collapsed": true
   },
   "outputs": [],
   "source": [
    "#напишем функцию для топ-300 слов\n",
    "def top_300(lang):\n",
    "    lang_words = Counter(lang).most_common(300) #считаем 300 самых частотных слов\n",
    "    str_lang_words = str(lang_words) # преобразуем список в строку\n",
    "    clean_str = re.sub(r'\\),', r'\\n', str_lang_words) #делаем слова в столбик\n",
    "    very_clean_str = re.sub('[\\(\\[\\]\\'\\,\\)]', '', clean_str) #убираем знаки препинания\n",
    "    return very_clean_str\n"
   ]
  },
  {
   "cell_type": "markdown",
   "metadata": {},
   "source": [
    "#Запишем в файлы топ-300 слов для каждого языка"
   ]
  },
  {
   "cell_type": "code",
   "execution_count": 14,
   "metadata": {
    "collapsed": true
   },
   "outputs": [],
   "source": [
    "fl = open('rus.txt', 'w') \n",
    "fl.write(top_300(russian)) \n",
    "fl.close() "
   ]
  },
  {
   "cell_type": "code",
   "execution_count": 15,
   "metadata": {
    "collapsed": true
   },
   "outputs": [],
   "source": [
    "fl = open('ukr.txt', 'w') \n",
    "fl.write(top_300(ukrainian)) \n",
    "fl.close() "
   ]
  },
  {
   "cell_type": "code",
   "execution_count": 16,
   "metadata": {
    "collapsed": true
   },
   "outputs": [],
   "source": [
    "fl = open('eng.txt', 'w') \n",
    "fl.write(top_300(english)) \n",
    "fl.close() "
   ]
  },
  {
   "cell_type": "code",
   "execution_count": 17,
   "metadata": {
    "collapsed": true
   },
   "outputs": [],
   "source": [
    "fl = open('deu.txt', 'w') \n",
    "fl.write(top_300(german)) \n",
    "fl.close() "
   ]
  },
  {
   "cell_type": "code",
   "execution_count": 18,
   "metadata": {
    "collapsed": true
   },
   "outputs": [],
   "source": [
    "fl = open('dan.txt', 'w') \n",
    "fl.write(top_300(danish)) \n",
    "fl.close() "
   ]
  },
  {
   "cell_type": "code",
   "execution_count": 19,
   "metadata": {
    "collapsed": true
   },
   "outputs": [],
   "source": [
    "fl = open('gle.txt', 'w')\n",
    "fl.write(top_300(irish)) \n",
    "fl.close() "
   ]
  },
  {
   "cell_type": "code",
   "execution_count": 20,
   "metadata": {
    "collapsed": true
   },
   "outputs": [],
   "source": [
    "fl = open('fra.txt', 'w') \n",
    "fl.write(top_300(french)) \n",
    "fl.close() "
   ]
  },
  {
   "cell_type": "markdown",
   "metadata": {},
   "source": [
    "Сделаем списки биграмм и триграмм для всех языков. \n",
    "Функция ngrams будет получать список слов языка и число 2 или 3 и возвращать список би- или триграмм соответственно.\n",
    "Функция top_300_ngrams будет получать то же самое и возвращать записанные в столбик самые частотные би- и триграммы \n",
    "в порядке убывания частотности."
   ]
  },
  {
   "cell_type": "code",
   "execution_count": 21,
   "metadata": {
    "collapsed": true
   },
   "outputs": [],
   "source": [
    "def ngrams(lang, n):\n",
    "    ngrams = [lang[i:i+n] for i in range(len(lang)-n+1)]\n",
    "    return ngrams"
   ]
  },
  {
   "cell_type": "code",
   "execution_count": 22,
   "metadata": {
    "collapsed": true
   },
   "outputs": [],
   "source": [
    "def top_300_ngrams(lang, n):\n",
    "    if n == 2:\n",
    "        lang_bigr = ngrams(lang, n)\n",
    "        lang_bigrams = []\n",
    "        for bigram in lang_bigr:\n",
    "            b = '_'.join(bigram)\n",
    "            lang_bigrams.append(b)\n",
    "        lang_bi_300 = Counter(lang_bigrams).most_common(300)\n",
    "        lang_bi_300_str = str(lang_bi_300)\n",
    "        clean_bi = re.sub(r'\\),', r'\\n', lang_bi_300_str) \n",
    "        very_clean_bi = re.sub('[\\(\\[\\]\\'\\,\\)]', '', clean_bi)\n",
    "        return very_clean_bi\n",
    "    if n == 3:\n",
    "        lang_trigr = ngrams(lang, 3)\n",
    "        lang_trigrams = []\n",
    "        for trigram in lang_trigr:\n",
    "            t = '_'.join(trigram)\n",
    "            lang_trigrams.append(t)\n",
    "        lang_tri_300 = Counter(lang_trigrams).most_common(300)\n",
    "        lang_tri_300_str = str(lang_tri_300)\n",
    "        clean_tri = re.sub(r'\\),', r'\\n', lang_tri_300_str) \n",
    "        very_clean_tri = re.sub('[\\(\\[\\]\\'\\,\\)]', '', clean_tri)\n",
    "        return very_clean_tri\n",
    "    else:\n",
    "        return None"
   ]
  },
  {
   "cell_type": "markdown",
   "metadata": {},
   "source": [
    "Запишем топ-300 биграмм и триграмм в файлики.\n",
    "\n",
    "                            "
   ]
  },
  {
   "cell_type": "code",
   "execution_count": 23,
   "metadata": {
    "collapsed": true
   },
   "outputs": [],
   "source": [
    "fl = open('rus_bi.txt', 'w') \n",
    "fl.write(top_300_ngrams(russian, 2)) \n",
    "fl.close() "
   ]
  },
  {
   "cell_type": "code",
   "execution_count": 24,
   "metadata": {
    "collapsed": true
   },
   "outputs": [],
   "source": [
    "fl = open('rus_tri.txt', 'w') \n",
    "fl.write(top_300_ngrams(russian, 3)) \n",
    "fl.close() "
   ]
  },
  {
   "cell_type": "code",
   "execution_count": 25,
   "metadata": {
    "collapsed": true
   },
   "outputs": [],
   "source": [
    "fl = open('ukr_bi.txt', 'w') \n",
    "fl.write(top_300_ngrams(ukrainian, 2)) \n",
    "fl.close() "
   ]
  },
  {
   "cell_type": "code",
   "execution_count": 26,
   "metadata": {
    "collapsed": true
   },
   "outputs": [],
   "source": [
    "fl = open('ukr_tri.txt', 'w') \n",
    "fl.write(top_300_ngrams(ukrainian, 3)) \n",
    "fl.close() "
   ]
  },
  {
   "cell_type": "code",
   "execution_count": 27,
   "metadata": {
    "collapsed": true
   },
   "outputs": [],
   "source": [
    "fl = open('eng_bi.txt', 'w') \n",
    "fl.write(top_300_ngrams(english, 2)) \n",
    "fl.close() "
   ]
  },
  {
   "cell_type": "code",
   "execution_count": 28,
   "metadata": {
    "collapsed": true
   },
   "outputs": [],
   "source": [
    "fl = open('eng_tri.txt', 'w') \n",
    "fl.write(top_300_ngrams(english, 3)) \n",
    "fl.close() "
   ]
  },
  {
   "cell_type": "code",
   "execution_count": 29,
   "metadata": {
    "collapsed": true
   },
   "outputs": [],
   "source": [
    "fl = open('deu_bi.txt', 'w') \n",
    "fl.write(top_300_ngrams(german, 2)) \n",
    "fl.close() "
   ]
  },
  {
   "cell_type": "code",
   "execution_count": 30,
   "metadata": {
    "collapsed": true
   },
   "outputs": [],
   "source": [
    "fl = open('deu_tri.txt', 'w') \n",
    "fl.write(top_300_ngrams(german, 3)) \n",
    "fl.close() "
   ]
  },
  {
   "cell_type": "code",
   "execution_count": 31,
   "metadata": {
    "collapsed": true
   },
   "outputs": [],
   "source": [
    "fl = open('dan_bi.txt', 'w') \n",
    "fl.write(top_300_ngrams(danish, 2)) \n",
    "fl.close() "
   ]
  },
  {
   "cell_type": "code",
   "execution_count": 32,
   "metadata": {
    "collapsed": true
   },
   "outputs": [],
   "source": [
    "fl = open('dan_tri.txt', 'w') \n",
    "fl.write(top_300_ngrams(danish, 3)) \n",
    "fl.close() "
   ]
  },
  {
   "cell_type": "code",
   "execution_count": 33,
   "metadata": {
    "collapsed": true
   },
   "outputs": [],
   "source": [
    "fl = open('gle_bi.txt', 'w') \n",
    "fl.write(top_300_ngrams(irish, 2)) \n",
    "fl.close() "
   ]
  },
  {
   "cell_type": "code",
   "execution_count": 34,
   "metadata": {
    "collapsed": true
   },
   "outputs": [],
   "source": [
    "fl = open('gle_tri.txt', 'w') \n",
    "fl.write(top_300_ngrams(irish, 3)) \n",
    "fl.close() "
   ]
  },
  {
   "cell_type": "code",
   "execution_count": 35,
   "metadata": {
    "collapsed": true
   },
   "outputs": [],
   "source": [
    "fl = open('fra_bi.txt', 'w') \n",
    "fl.write(top_300_ngrams(french, 2)) \n",
    "fl.close() "
   ]
  },
  {
   "cell_type": "code",
   "execution_count": 36,
   "metadata": {
    "collapsed": true
   },
   "outputs": [],
   "source": [
    "fl = open('fra_tri.txt', 'w') \n",
    "fl.write(top_300_ngrams(french, 3)) \n",
    "fl.close() "
   ]
  },
  {
   "cell_type": "code",
   "execution_count": 37,
   "metadata": {},
   "outputs": [
    {
     "name": "stdout",
     "output_type": "stream",
     "text": [
      "['den_december_vedtog', 'december_vedtog_og', 'vedtog_og_offentliggjorde', 'og_offentliggjorde_fns', 'offentliggjorde_fns_tredie', 'fns_tredie_generalforsamling', 'tredie_generalforsamling_verdenserklæringen', 'generalforsamling_verdenserklæringen_om', 'verdenserklæringen_om_menneskerettighederne', 'om_menneskerettighederne_erklæringen']\n"
     ]
    }
   ],
   "source": [
    "def ngrams_list(lang, n):\n",
    "    lang_ngr = ngrams(lang, n)\n",
    "    lang_ngrams = []\n",
    "    for ngram in lang_ngr:\n",
    "        n = '_'.join(ngram)\n",
    "        lang_ngrams.append(n)\n",
    "    return lang_ngrams\n",
    "print(ngrams_list(danish, 3)[:10])"
   ]
  },
  {
   "cell_type": "code",
   "execution_count": 38,
   "metadata": {
    "collapsed": true
   },
   "outputs": [],
   "source": [
    "top_rus_bi = Counter(ngrams_list(russian, 2)).most_common(300)\n",
    "top_rus = set([w[0] for w in top_rus_bi])"
   ]
  },
  {
   "cell_type": "code",
   "execution_count": 39,
   "metadata": {
    "collapsed": true
   },
   "outputs": [],
   "source": [
    "top_eng_bi = Counter(ngrams_list(english, 2)).most_common(300)\n",
    "top_eng = set([w[0] for w in top_eng_bi])"
   ]
  },
  {
   "cell_type": "code",
   "execution_count": 40,
   "metadata": {
    "collapsed": true
   },
   "outputs": [],
   "source": [
    "top_ukr_bi = Counter(ngrams_list(ukrainian, 2)).most_common(300)\n",
    "top_ukr = set([w[0] for w in top_ukr_bi])"
   ]
  },
  {
   "cell_type": "code",
   "execution_count": 41,
   "metadata": {
    "collapsed": true
   },
   "outputs": [],
   "source": [
    "top_deu_bi = Counter(ngrams_list(german, 2)).most_common(300)\n",
    "top_deu = set([w[0] for w in top_deu_bi])"
   ]
  },
  {
   "cell_type": "code",
   "execution_count": 42,
   "metadata": {
    "collapsed": true
   },
   "outputs": [],
   "source": [
    "top_dan_bi = Counter(ngrams_list(danish, 2)).most_common(300)\n",
    "top_dan = set([w[0] for w in top_dan_bi])"
   ]
  },
  {
   "cell_type": "code",
   "execution_count": 43,
   "metadata": {
    "collapsed": true
   },
   "outputs": [],
   "source": [
    "top_gle_bi = Counter(ngrams_list(irish, 2)).most_common(300)\n",
    "top_gle = set([w[0] for w in top_gle_bi])"
   ]
  },
  {
   "cell_type": "code",
   "execution_count": 44,
   "metadata": {
    "collapsed": true
   },
   "outputs": [],
   "source": [
    "top_fra_bi = Counter(ngrams_list(french, 2)).most_common(300)\n",
    "top_fra = set([w[0] for w in top_fra_bi])"
   ]
  },
  {
   "cell_type": "markdown",
   "metadata": {},
   "source": [
    "Посмотрим, есть ли общие частотные биграммы в разных языках."
   ]
  },
  {
   "cell_type": "code",
   "execution_count": 47,
   "metadata": {},
   "outputs": [
    {
     "name": "stdout",
     "output_type": "stream",
     "text": [
      "0\n"
     ]
    }
   ],
   "source": [
    "print(len(top_fra & top_gle))"
   ]
  },
  {
   "cell_type": "code",
   "execution_count": 48,
   "metadata": {},
   "outputs": [
    {
     "name": "stdout",
     "output_type": "stream",
     "text": [
      "0\n"
     ]
    }
   ],
   "source": [
    "print(len(top_fra & top_eng))"
   ]
  },
  {
   "cell_type": "code",
   "execution_count": 49,
   "metadata": {},
   "outputs": [
    {
     "name": "stdout",
     "output_type": "stream",
     "text": [
      "1\n",
      "{'artikel_alle'}\n"
     ]
    }
   ],
   "source": [
    "print(len(top_deu & top_dan))\n",
    "print(top_deu & top_dan)"
   ]
  },
  {
   "cell_type": "code",
   "execution_count": 50,
   "metadata": {},
   "outputs": [
    {
     "name": "stdout",
     "output_type": "stream",
     "text": [
      "4\n",
      "{'свободу_слова', 'право_без', 'на_свободу', 'право_на'}\n"
     ]
    }
   ],
   "source": [
    "print(len(top_rus & top_ukr))\n",
    "print(top_rus & top_ukr)\n",
    "rus_ukr_similarity = top_rus & top_ukr"
   ]
  },
  {
   "cell_type": "code",
   "execution_count": 51,
   "metadata": {},
   "outputs": [
    {
     "name": "stdout",
     "output_type": "stream",
     "text": [
      "0\n"
     ]
    }
   ],
   "source": [
    "print(len(top_eng & top_gle))"
   ]
  },
  {
   "cell_type": "code",
   "execution_count": 52,
   "metadata": {},
   "outputs": [
    {
     "name": "stdout",
     "output_type": "stream",
     "text": [
      "0\n"
     ]
    }
   ],
   "source": [
    "print(len(top_eng & top_dan))"
   ]
  },
  {
   "cell_type": "code",
   "execution_count": 53,
   "metadata": {},
   "outputs": [
    {
     "name": "stdout",
     "output_type": "stream",
     "text": [
      "0\n"
     ]
    }
   ],
   "source": [
    "print(len(top_eng & top_deu))"
   ]
  },
  {
   "cell_type": "markdown",
   "metadata": {},
   "source": [
    "Общих биграмм мало или нет совсем. Сравним топы частотных слов."
   ]
  },
  {
   "cell_type": "code",
   "execution_count": 54,
   "metadata": {
    "collapsed": true
   },
   "outputs": [],
   "source": [
    "rus_words = Counter(russian).most_common(300)\n",
    "top_rus_words = set([w[0] for w in rus_words])\n",
    "\n",
    "ukr_words = Counter(ukrainian).most_common(300)\n",
    "top_ukr_words = set([w[0] for w in ukr_words])\n",
    "\n",
    "eng_words = Counter(english).most_common(300)\n",
    "top_eng_words = set([w[0] for w in eng_words])\n",
    "\n",
    "deu_words = Counter(german).most_common(300)\n",
    "top_deu_words = set([w[0] for w in deu_words])\n",
    "\n",
    "fra_words = Counter(french).most_common(300)\n",
    "top_fra_words = set([w[0] for w in fra_words])\n",
    "\n",
    "dan_words = Counter(danish).most_common(300)\n",
    "top_dan_words = set([w[0] for w in dan_words])\n",
    "\n",
    "gle_words = Counter(irish).most_common(300)\n",
    "top_gle_words = set([w[0] for w in gle_words])"
   ]
  },
  {
   "cell_type": "code",
   "execution_count": 55,
   "metadata": {},
   "outputs": [
    {
     "name": "stdout",
     "output_type": "stream",
     "text": [
      "31\n",
      "{'преамбула', 'воля', 'на', 'не', 'люди', 'народами', 'свобод', 'членам', 'через', 'законом', 'правами', 'то', 'людей', 'без', 'того', 'принципам', 'так', 'правах', 'права', 'для', 'такого', 'при', 'свободу', 'прав', 'в', 'орган', 'слова', 'свою', 'за', 'перед', 'право'}\n"
     ]
    }
   ],
   "source": [
    "print(len(top_rus_words & top_ukr_words))\n",
    "print(top_rus_words & top_ukr_words)"
   ]
  },
  {
   "cell_type": "code",
   "execution_count": 56,
   "metadata": {},
   "outputs": [
    {
     "name": "stdout",
     "output_type": "stream",
     "text": [
      "6\n",
      "{'an', 'person', 'in', 'a', 'not', 'religion'}\n"
     ]
    }
   ],
   "source": [
    "print(len(top_eng_words & top_deu_words))\n",
    "print(top_eng_words & top_deu_words)"
   ]
  },
  {
   "cell_type": "code",
   "execution_count": 57,
   "metadata": {},
   "outputs": [
    {
     "name": "stdout",
     "output_type": "stream",
     "text": [
      "9\n",
      "{'for', 'national', 'under', 'international', 'have', 'at', 'man', 'social', 'religion'}\n"
     ]
    }
   ],
   "source": [
    "print(len(top_eng_words & top_dan_words))\n",
    "print(top_eng_words & top_dan_words)"
   ]
  },
  {
   "cell_type": "code",
   "execution_count": 58,
   "metadata": {},
   "outputs": [
    {
     "name": "stdout",
     "output_type": "stream",
     "text": [
      "13\n",
      "{'artikel', 'da', 'familie', 'den', 'art', 'alle', 'landes', 'internationale', 'grund', 'land', 'der', 'nationale', 'religion'}\n"
     ]
    }
   ],
   "source": [
    "print(len(top_dan_words & top_deu_words))\n",
    "print(top_dan_words & top_deu_words)"
   ]
  },
  {
   "cell_type": "code",
   "execution_count": 59,
   "metadata": {},
   "outputs": [
    {
     "name": "stdout",
     "output_type": "stream",
     "text": [
      "22\n",
      "{'conscience', 'aspiration', 'association', 'respect', 'race', 'limitation', 'discrimination', 'justice', 'distinction', 'relations', 'oppression', 'religion', 'nations', 'public', 'importance', 'social', 'national', 'international', 'opinion', 'protection', 'a', 'article'}\n"
     ]
    }
   ],
   "source": [
    "print(len(top_eng_words & top_fra_words))\n",
    "print(top_eng_words & top_fra_words)"
   ]
  },
  {
   "cell_type": "code",
   "execution_count": 60,
   "metadata": {},
   "outputs": [
    {
     "name": "stdout",
     "output_type": "stream",
     "text": [
      "4\n",
      "{'religion', 'a', 'nationale', 'des'}\n"
     ]
    }
   ],
   "source": [
    "print(len(top_fra_words & top_deu_words))\n",
    "print(top_fra_words & top_deu_words)"
   ]
  },
  {
   "cell_type": "code",
   "execution_count": 62,
   "metadata": {},
   "outputs": [
    {
     "name": "stdout",
     "output_type": "stream",
     "text": [
      "8\n",
      "{'fear', 'an', 'organ', 'in', 'a', 'as', 'is', 'no'}\n"
     ]
    }
   ],
   "source": [
    "print(len(top_eng_words & top_gle_words))\n",
    "print(top_eng_words & top_gle_words)"
   ]
  },
  {
   "cell_type": "code",
   "execution_count": 63,
   "metadata": {},
   "outputs": [
    {
     "name": "stdout",
     "output_type": "stream",
     "text": [
      "5\n",
      "{'a', 'd', 'le', 'sa', 'de'}\n"
     ]
    }
   ],
   "source": [
    "print(len(top_fra_words & top_gle_words))\n",
    "print(top_fra_words & top_gle_words)"
   ]
  },
  {
   "cell_type": "code",
   "execution_count": 64,
   "metadata": {},
   "outputs": [
    {
     "name": "stdout",
     "output_type": "stream",
     "text": [
      "0\n",
      "set()\n"
     ]
    }
   ],
   "source": [
    "print(len(top_eng_words & top_rus_words))\n",
    "print(top_eng_words & top_rus_words)"
   ]
  },
  {
   "cell_type": "markdown",
   "metadata": {},
   "source": [
    "Топы слов дают больше пересечений, чем топы биграмм."
   ]
  },
  {
   "cell_type": "markdown",
   "metadata": {},
   "source": [
    "Визуализируем матрицу схожести"
   ]
  },
  {
   "cell_type": "code",
   "execution_count": 65,
   "metadata": {
    "collapsed": true
   },
   "outputs": [],
   "source": [
    "import matplotlib.pyplot as plt\n",
    "from sklearn.feature_extraction.text import TfidfVectorizer"
   ]
  },
  {
   "cell_type": "code",
   "execution_count": 66,
   "metadata": {},
   "outputs": [
    {
     "name": "stdout",
     "output_type": "stream",
     "text": [
      "7\n",
      "<class 'str'>\n"
     ]
    }
   ],
   "source": [
    "def make_string(top_words_set):\n",
    "    lang_ = list(top_words_set)\n",
    "    result = ' '.join(lang_)\n",
    "    return result\n",
    "\n",
    "tops = [top_rus_words, top_ukr_words, top_eng_words, top_deu_words, top_fra_words, top_gle_words, top_dan_words]\n",
    "texts = list(map(make_string, tops))\n",
    "print(len(texts))\n",
    "print(type(texts[-1]))\n"
   ]
  },
  {
   "cell_type": "code",
   "execution_count": 67,
   "metadata": {},
   "outputs": [
    {
     "name": "stdout",
     "output_type": "stream",
     "text": [
      "tfidf shape: (7, 1973)\n"
     ]
    }
   ],
   "source": [
    "vectorizer = TfidfVectorizer(ngram_range=(1, 1))\n",
    "\n",
    "tfidf = vectorizer.fit_transform(texts)\n",
    "print(\"tfidf shape:\", tfidf.shape)"
   ]
  },
  {
   "cell_type": "code",
   "execution_count": 68,
   "metadata": {
    "collapsed": true
   },
   "outputs": [],
   "source": [
    "from sklearn.metrics.pairwise import cosine_similarity"
   ]
  },
  {
   "cell_type": "code",
   "execution_count": 69,
   "metadata": {},
   "outputs": [
    {
     "name": "stdout",
     "output_type": "stream",
     "text": [
      "(7, 7)\n",
      "[[ 1.          0.07291204  0.          0.00238814  0.          0.          0.        ]\n",
      " [ 0.07291204  1.          0.          0.          0.          0.          0.        ]\n",
      " [ 0.          0.          1.          0.00955579  0.04768015  0.015483\n",
      "   0.01851255]\n",
      " [ 0.00238814  0.          0.00955579  1.          0.0054637   0.00758481\n",
      "   0.02848086]\n",
      " [ 0.          0.          0.04768015  0.0054637   1.          0.0065794\n",
      "   0.01731928]\n",
      " [ 0.          0.          0.015483    0.00758481  0.0065794   1.\n",
      "   0.00587118]\n",
      " [ 0.          0.          0.01851255  0.02848086  0.01731928  0.00587118\n",
      "   1.        ]]\n"
     ]
    }
   ],
   "source": [
    "similarities = cosine_similarity(tfidf)\n",
    "print(similarities.shape)\n",
    "print(similarities)"
   ]
  },
  {
   "cell_type": "code",
   "execution_count": 70,
   "metadata": {},
   "outputs": [
    {
     "data": {
      "image/png": "[encoded data removed]",
      "text/plain": [
       "<matplotlib.figure.Figure at 0x11146f898>"
      ]
     },
     "metadata": {},
     "output_type": "display_data"
    }
   ],
   "source": [
    "%matplotlib inline\n",
    "\n",
    "plt.imshow(similarities)\n",
    "plt.colorbar()\n",
    "plt.show()"
   ]
  },
  {
   "cell_type": "markdown",
   "metadata": {},
   "source": [
    "Наблюдается небольшое сходство между нулевым и первым языком (русским и украинским), вторым и четвёртым (английским и французским)."
   ]
  },
  {
   "cell_type": "markdown",
   "metadata": {},
   "source": [
    "Бонус<br>\n",
    "Скачаем из Википедии статью о Декларации на наших семи языках."
   ]
  },
  {
   "cell_type": "code",
   "execution_count": 72,
   "metadata": {
    "collapsed": true
   },
   "outputs": [],
   "source": [
    "import wikipedia"
   ]
  },
  {
   "cell_type": "code",
   "execution_count": 73,
   "metadata": {
    "collapsed": true
   },
   "outputs": [],
   "source": [
    "wikipedia.set_lang(\"ru\")"
   ]
  },
  {
   "cell_type": "code",
   "execution_count": 75,
   "metadata": {},
   "outputs": [],
   "source": [
    "decl_rus = wikipedia.page(\"Всеобщая декларация прав человека\")"
   ]
  },
  {
   "cell_type": "code",
   "execution_count": 77,
   "metadata": {
    "collapsed": true
   },
   "outputs": [],
   "source": [
    "fl = open('decl_rus.txt', 'w') \n",
    "fl.write(decl_rus.content) \n",
    "fl.close() "
   ]
  },
  {
   "cell_type": "code",
   "execution_count": 78,
   "metadata": {
    "collapsed": true
   },
   "outputs": [],
   "source": [
    "wikipedia.set_lang(\"en\")"
   ]
  },
  {
   "cell_type": "code",
   "execution_count": 79,
   "metadata": {
    "collapsed": true
   },
   "outputs": [],
   "source": [
    "decl_eng = wikipedia.page(\"Universal declaration of human rights\")\n",
    "fl = open('decl_eng.txt', 'w') \n",
    "fl.write(decl_eng.content) \n",
    "fl.close() "
   ]
  },
  {
   "cell_type": "code",
   "execution_count": 80,
   "metadata": {
    "collapsed": true
   },
   "outputs": [],
   "source": [
    "wikipedia.set_lang(\"uk\")"
   ]
  },
  {
   "cell_type": "code",
   "execution_count": 81,
   "metadata": {
    "collapsed": true
   },
   "outputs": [],
   "source": [
    "decl_ukr = wikipedia.page(\"Загальна Декларація Прав Людини\")\n",
    "fl = open('decl_ukr.txt', 'w') \n",
    "fl.write(decl_ukr.content) \n",
    "fl.close() "
   ]
  },
  {
   "cell_type": "code",
   "execution_count": 82,
   "metadata": {
    "collapsed": true
   },
   "outputs": [],
   "source": [
    "wikipedia.set_lang(\"de\")"
   ]
  },
  {
   "cell_type": "code",
   "execution_count": 83,
   "metadata": {
    "collapsed": true
   },
   "outputs": [],
   "source": [
    "decl_deu = wikipedia.page(\"Allgemeine Erklärung der Menschenrechte\")\n",
    "fl = open('decl_deu.txt', 'w') \n",
    "fl.write(decl_deu.content) \n",
    "fl.close() "
   ]
  },
  {
   "cell_type": "code",
   "execution_count": 84,
   "metadata": {
    "collapsed": true
   },
   "outputs": [],
   "source": [
    "wikipedia.set_lang(\"da\")"
   ]
  },
  {
   "cell_type": "code",
   "execution_count": 85,
   "metadata": {
    "collapsed": true
   },
   "outputs": [],
   "source": [
    "decl_dan = wikipedia.page(\"FN's Verdenserklæring om Menneskerettighederne\")\n",
    "fl = open('decl_dan.txt', 'w') \n",
    "fl.write(decl_dan.content) \n",
    "fl.close() "
   ]
  },
  {
   "cell_type": "code",
   "execution_count": 86,
   "metadata": {
    "collapsed": true
   },
   "outputs": [],
   "source": [
    "wikipedia.set_lang(\"fr\")"
   ]
  },
  {
   "cell_type": "code",
   "execution_count": 87,
   "metadata": {
    "collapsed": true
   },
   "outputs": [],
   "source": [
    "decl_fra = wikipedia.page(\"Déclaration universelle des droits de l'Homme\")\n",
    "fl = open('decl_fra.txt', 'w') \n",
    "fl.write(decl_fra.content) \n",
    "fl.close() "
   ]
  },
  {
   "cell_type": "code",
   "execution_count": 88,
   "metadata": {
    "collapsed": true
   },
   "outputs": [],
   "source": [
    "wikipedia.set_lang(\"ga\")"
   ]
  },
  {
   "cell_type": "code",
   "execution_count": 89,
   "metadata": {
    "collapsed": true
   },
   "outputs": [],
   "source": [
    "decl_gle = wikipedia.page(\"Dearbhú Uilechoiteann Chearta an Duine\")\n",
    "fl = open('decl_gle.txt', 'w') \n",
    "fl.write(decl_gle.content) \n",
    "fl.close() "
   ]
  },
  {
   "cell_type": "markdown",
   "metadata": {},
   "source": [
    "Соберём топ-300 слов из статей."
   ]
  },
  {
   "cell_type": "code",
   "execution_count": 90,
   "metadata": {
    "collapsed": true
   },
   "outputs": [],
   "source": [
    "with open(\"/Users/ika/Downloads/decl_rus.txt\", \n",
    "          encoding=\"utf-8\") as f:\n",
    "    lines_decl_rus = f.readlines() \n",
    "\n",
    "decl_russian = preprocess(lines_decl_rus)\n",
    "decl_rus_words = Counter(decl_russian).most_common(300)\n",
    "top_decl_rus_words = set([w[0] for w in decl_rus_words])"
   ]
  },
  {
   "cell_type": "code",
   "execution_count": 91,
   "metadata": {
    "collapsed": true
   },
   "outputs": [],
   "source": [
    "with open(\"/Users/ika/Downloads/decl_ukr.txt\", \n",
    "          encoding=\"utf-8\") as f:\n",
    "    lines_decl_ukr = f.readlines() \n",
    "\n",
    "decl_ukrainian = preprocess(lines_decl_ukr)\n",
    "decl_ukr_words = Counter(decl_ukrainian).most_common(300)\n",
    "top_decl_ukr_words = set([w[0] for w in decl_ukr_words])"
   ]
  },
  {
   "cell_type": "code",
   "execution_count": 92,
   "metadata": {
    "collapsed": true
   },
   "outputs": [],
   "source": [
    "with open(\"/Users/ika/Downloads/decl_eng.txt\", \n",
    "          encoding=\"utf-8\") as f:\n",
    "    lines_decl_eng = f.readlines() \n",
    "\n",
    "decl_english = preprocess(lines_decl_eng)\n",
    "decl_eng_words = Counter(decl_english).most_common(300)\n",
    "top_decl_eng_words = set([w[0] for w in decl_eng_words])"
   ]
  },
  {
   "cell_type": "code",
   "execution_count": 93,
   "metadata": {
    "collapsed": true
   },
   "outputs": [],
   "source": [
    "with open(\"/Users/ika/Downloads/decl_dan.txt\", \n",
    "          encoding=\"utf-8\") as f:\n",
    "    lines_decl_dan = f.readlines() \n",
    "\n",
    "decl_danish = preprocess(lines_decl_dan)\n",
    "decl_dan_words = Counter(decl_danish).most_common(300)\n",
    "top_decl_dan_words = set([w[0] for w in decl_dan_words])"
   ]
  },
  {
   "cell_type": "code",
   "execution_count": 94,
   "metadata": {
    "collapsed": true
   },
   "outputs": [],
   "source": [
    "with open(\"/Users/ika/Downloads/decl_fra.txt\", \n",
    "          encoding=\"utf-8\") as f:\n",
    "    lines_decl_fra = f.readlines() \n",
    "\n",
    "decl_french = preprocess(lines_decl_fra)\n",
    "decl_fra_words = Counter(decl_french).most_common(300)\n",
    "top_decl_fra_words = set([w[0] for w in decl_fra_words])"
   ]
  },
  {
   "cell_type": "code",
   "execution_count": 95,
   "metadata": {
    "collapsed": true
   },
   "outputs": [],
   "source": [
    "with open(\"/Users/ika/Downloads/decl_deu.txt\", \n",
    "          encoding=\"utf-8\") as f:\n",
    "    lines_decl_deu = f.readlines() \n",
    "\n",
    "decl_german = preprocess(lines_decl_deu)\n",
    "decl_deu_words = Counter(decl_german).most_common(300)\n",
    "top_decl_deu_words = set([w[0] for w in decl_deu_words])"
   ]
  },
  {
   "cell_type": "code",
   "execution_count": 96,
   "metadata": {
    "collapsed": true
   },
   "outputs": [],
   "source": [
    "with open(\"/Users/ika/Downloads/decl_gle.txt\", \n",
    "          encoding=\"utf-8\") as f:\n",
    "    lines_decl_gle = f.readlines() \n",
    "\n",
    "decl_irish = preprocess(lines_decl_gle)\n",
    "decl_gle_words = Counter(decl_irish).most_common(300)\n",
    "top_decl_gle_words = set([w[0] for w in decl_gle_words])"
   ]
  },
  {
   "cell_type": "markdown",
   "metadata": {},
   "source": [
    "Сравним топы"
   ]
  },
  {
   "cell_type": "code",
   "execution_count": 97,
   "metadata": {},
   "outputs": [
    {
     "name": "stdout",
     "output_type": "stream",
     "text": [
      "69\n",
      "{'правам', 'на', 'как', 'люди', 'не', 'наций', 'декларация', 'был', 'генеральной', 'его', 'которые', 'чтобы', 'быть', 'их', 'к', 'все', 'создание', 'с', 'этих', 'декабря', 'бы', 'это', 'то', 'было', 'без', 'и', 'либо', 'года', 'провозглашает', 'от', 'иметь', 'основе', 'просвещения', 'во', 'по', 'членов', 'правах', 'так', 'а', 'или', 'права', 'резолюцией', 'организации', 'при', 'для', 'декларации', 'они', 'декларацию', 'время', 'ассамблеи', 'тем', 'международного', 'всех', 'свободу', 'прав', 'в', 'своих', 'право', 'свою', 'всеобщая', 'за', 'что', 'iii', 'перед', 'является', 'человека', 'государств', 'свободы', 'мира'}\n"
     ]
    }
   ],
   "source": [
    "print(len(top_rus_words & top_decl_rus_words))\n",
    "print(top_rus_words & top_decl_rus_words)"
   ]
  },
  {
   "cell_type": "code",
   "execution_count": 98,
   "metadata": {},
   "outputs": [
    {
     "name": "stdout",
     "output_type": "stream",
     "text": [
      "7\n",
      "<class 'str'>\n"
     ]
    }
   ],
   "source": [
    "decl_tops = [top_decl_rus_words, top_decl_ukr_words, top_decl_eng_words, top_decl_deu_words, top_decl_fra_words, top_decl_gle_words, top_decl_dan_words]\n",
    "decl_texts = list(map(make_string, decl_tops))\n",
    "print(len(decl_texts))\n",
    "print(type(texts[-1]))"
   ]
  },
  {
   "cell_type": "code",
   "execution_count": 99,
   "metadata": {},
   "outputs": [
    {
     "name": "stdout",
     "output_type": "stream",
     "text": [
      "<class 'list'>\n",
      "14\n"
     ]
    }
   ],
   "source": [
    "more_texts = texts + decl_texts\n",
    "print(type(more_texts))\n",
    "print(len(more_texts))"
   ]
  },
  {
   "cell_type": "code",
   "execution_count": 100,
   "metadata": {},
   "outputs": [
    {
     "name": "stdout",
     "output_type": "stream",
     "text": [
      "tfidf shape: (14, 3077)\n"
     ]
    }
   ],
   "source": [
    "tfidf_2 = vectorizer.fit_transform(more_texts)\n",
    "print(\"tfidf shape:\", tfidf_2.shape)"
   ]
  },
  {
   "cell_type": "code",
   "execution_count": 101,
   "metadata": {},
   "outputs": [
    {
     "name": "stdout",
     "output_type": "stream",
     "text": [
      "(14, 14)\n"
     ]
    }
   ],
   "source": [
    "more_similarities = cosine_similarity(tfidf_2)\n",
    "print(more_similarities.shape)"
   ]
  },
  {
   "cell_type": "code",
   "execution_count": 102,
   "metadata": {},
   "outputs": [
    {
     "data": {
      "image/png": "[encoded data removed]",
      "text/plain": [
       "<matplotlib.figure.Figure at 0x11174c898>"
      ]
     },
     "metadata": {},
     "output_type": "display_data"
    }
   ],
   "source": [
    "%matplotlib inline\n",
    "\n",
    "plt.imshow(more_similarities)\n",
    "plt.colorbar()\n",
    "plt.show()"
   ]
  },
  {
   "cell_type": "code",
   "execution_count": 103,
   "metadata": {},
   "outputs": [
    {
     "name": "stdout",
     "output_type": "stream",
     "text": [
      "[(0, 'Русский'), (1, 'Украинский'), (2, 'Английский'), (3, 'Немецкий'), (4, 'Французский'), (5, 'Ирландский'), (6, 'Датский'), (7, 'Русский'), (8, 'Украинский'), (9, 'Английский'), (10, 'Немецкий'), (11, 'Французский'), (12, 'Ирландский'), (13, 'Датский')]\n"
     ]
    }
   ],
   "source": [
    "lingvoj = [\"Русский\", \"Украинский\", \"Английский\", \"Немецкий\", \"Французский\", \"Ирландский\", \"Датский\", \"Русский\", \"Украинский\", \"Английский\", \"Немецкий\", \"Французский\", \"Ирландский\", \"Датский\"]\n",
    "numbers = range(14)\n",
    "table = list(zip(numbers, lingvoj))\n",
    "print(table)"
   ]
  },
  {
   "cell_type": "markdown",
   "metadata": {},
   "source": [
    "Видно, что больше всех похож немецкий на немецкий, а самое маленькое пересечение -- у датского языка."
   ]
  },
  {
   "cell_type": "code",
   "execution_count": 104,
   "metadata": {},
   "outputs": [
    {
     "name": "stdout",
     "output_type": "stream",
     "text": [
      "184\n",
      "61.33 %\n"
     ]
    }
   ],
   "source": [
    "print(len(top_deu_words & top_decl_deu_words))\n",
    "print('%.2f'%(len(top_deu_words & top_decl_deu_words) / 300 *100), '%')"
   ]
  },
  {
   "cell_type": "code",
   "execution_count": 105,
   "metadata": {},
   "outputs": [
    {
     "name": "stdout",
     "output_type": "stream",
     "text": [
      "109\n",
      "36.33 %\n"
     ]
    }
   ],
   "source": [
    "print(len(top_gle_words & top_decl_gle_words))\n",
    "print('%.2f'%(len(top_gle_words & top_decl_gle_words) / 300 *100), '%')"
   ]
  },
  {
   "cell_type": "code",
   "execution_count": 106,
   "metadata": {},
   "outputs": [
    {
     "name": "stdout",
     "output_type": "stream",
     "text": [
      "42\n",
      "14.00 %\n"
     ]
    }
   ],
   "source": [
    "print(len(top_dan_words & top_decl_dan_words))\n",
    "print('%.2f'%(len(top_dan_words & top_decl_dan_words) / 300 *100), '%')"
   ]
  },
  {
   "cell_type": "code",
   "execution_count": 107,
   "metadata": {},
   "outputs": [
    {
     "name": "stdout",
     "output_type": "stream",
     "text": [
      "91\n",
      "30.33 %\n"
     ]
    }
   ],
   "source": [
    "print(len(top_ukr_words & top_decl_ukr_words))\n",
    "print('%.2f'%(len(top_ukr_words & top_decl_ukr_words) / 300 *100), '%')"
   ]
  },
  {
   "cell_type": "code",
   "execution_count": 108,
   "metadata": {},
   "outputs": [
    {
     "name": "stdout",
     "output_type": "stream",
     "text": [
      "97\n",
      "32.33 %\n"
     ]
    }
   ],
   "source": [
    "print(len(top_fra_words & top_decl_fra_words))\n",
    "print('%.2f'%(len(top_fra_words & top_decl_fra_words) / 300 *100), '%')"
   ]
  },
  {
   "cell_type": "code",
   "execution_count": 109,
   "metadata": {},
   "outputs": [
    {
     "name": "stdout",
     "output_type": "stream",
     "text": [
      "106\n",
      "35.33 %\n"
     ]
    }
   ],
   "source": [
    "print(len(top_eng_words & top_decl_eng_words))\n",
    "print('%.2f'%(len(top_eng_words & top_decl_eng_words) / 300 *100), '%')"
   ]
  },
  {
   "cell_type": "markdown",
   "metadata": {},
   "source": [
    "Посмотрим, что будет, если сравнивать только с небольшим кусочком текста статьи из Википедии."
   ]
  },
  {
   "cell_type": "code",
   "execution_count": 110,
   "metadata": {},
   "outputs": [
    {
     "name": "stdout",
     "output_type": "stream",
     "text": [
      "76\n",
      "47\n",
      "61.84 %\n"
     ]
    }
   ],
   "source": [
    "german_short = decl_german[100:200]\n",
    "german_short_set = set(german_short)\n",
    "print(len(german_short_set))\n",
    "print(len(german_short_set & top_deu_words))\n",
    "print('%.2f'%(len(german_short_set & top_deu_words) / len(german_short_set) *100), '%')"
   ]
  },
  {
   "cell_type": "code",
   "execution_count": 111,
   "metadata": {},
   "outputs": [
    {
     "name": "stdout",
     "output_type": "stream",
     "text": [
      "76\n",
      "32\n",
      "42.11 %\n"
     ]
    }
   ],
   "source": [
    "german_short_1 = decl_german[200:300]\n",
    "german_short_set_1 = set(german_short_1)\n",
    "print(len(german_short_set_1))\n",
    "print(len(german_short_set_1 & top_deu_words))\n",
    "print('%.2f'%(len(german_short_set_1 & top_deu_words) / len(german_short_set_1) *100), '%')"
   ]
  },
  {
   "cell_type": "code",
   "execution_count": 112,
   "metadata": {},
   "outputs": [
    {
     "name": "stdout",
     "output_type": "stream",
     "text": [
      "77\n",
      "22\n",
      "28.57 %\n"
     ]
    }
   ],
   "source": [
    "german_short_2 = decl_german[300:400]\n",
    "german_short_set_2 = set(german_short_2)\n",
    "print(len(german_short_set_2))\n",
    "print(len(german_short_set_2 & top_deu_words))\n",
    "print('%.2f'%(len(german_short_set_2 & top_deu_words) / len(german_short_set_2) *100), '%')"
   ]
  },
  {
   "cell_type": "code",
   "execution_count": 113,
   "metadata": {},
   "outputs": [
    {
     "name": "stdout",
     "output_type": "stream",
     "text": [
      "22\n",
      "15\n",
      "68.18 %\n",
      "['durch', 'die', 'mitgliedsstaaten', 'der', 'vereinten', 'nationen', 'ist', 'eine', 'direkte', 'reaktion', 'auf', 'die', 'schrecklichen', 'ereignisse', 'des', 'zweiten', 'weltkriegs', 'in', 'dem', 'die', 'nichtanerkennung', 'und', 'verachtung', 'der', 'menschenrechte']\n"
     ]
    }
   ],
   "source": [
    "german_very_short = decl_german[450:475]\n",
    "german_very_short_set = set(german_very_short)\n",
    "print(len(german_very_short_set))\n",
    "print(len(german_very_short_set & top_deu_words))\n",
    "print('%.2f'%(len(german_very_short_set & top_deu_words) / len(german_very_short_set) *100), '%')\n",
    "print(german_very_short)"
   ]
  },
  {
   "cell_type": "code",
   "execution_count": 114,
   "metadata": {},
   "outputs": [
    {
     "name": "stdout",
     "output_type": "stream",
     "text": [
      "21\n",
      "6\n",
      "28.57 %\n",
      "['gegründet', 'im', 'bewusstsein', 'der', 'inhaltlichen', 'defizite', 'der', 'charta', 'hinsichtlich', 'der', 'menschenrechte', 'war', 'somit', 'die', 'erste', 'große', 'aufgabe', 'der', 'neu', 'gegründeten', 'kommission', 'die', 'erarbeitung', 'eines', 'internationalen']\n"
     ]
    }
   ],
   "source": [
    "german_very_short_1 = decl_german[500:525]\n",
    "german_very_short_set_1 = set(german_very_short_1)\n",
    "print(len(german_very_short_set_1))\n",
    "print(len(german_very_short_set_1 & top_deu_words))\n",
    "print('%.2f'%(len(german_very_short_set_1 & top_deu_words) / len(german_very_short_set_1) *100), '%')\n",
    "print(german_very_short_1)"
   ]
  },
  {
   "cell_type": "markdown",
   "metadata": {},
   "source": [
    "Заметим, что слова из небольшого отрывка текста на немецком почти не встречаются в топах для других языков. "
   ]
  },
  {
   "cell_type": "code",
   "execution_count": 118,
   "metadata": {},
   "outputs": [
    {
     "name": "stdout",
     "output_type": "stream",
     "text": [
      "0\n",
      "1\n",
      "0\n"
     ]
    }
   ],
   "source": [
    "print(len(german_very_short_set_1 & top_eng_words))\n",
    "print(len(german_very_short_set_1 & top_dan_words))\n",
    "print(len(german_very_short_set_1 & top_fra_words))"
   ]
  },
  {
   "cell_type": "code",
   "execution_count": 120,
   "metadata": {},
   "outputs": [
    {
     "name": "stdout",
     "output_type": "stream",
     "text": [
      "41\n",
      "14\n",
      "34.15 %\n"
     ]
    }
   ],
   "source": [
    "danish_short = decl_danish[100:200]\n",
    "danish_short_set = set(danish_short)\n",
    "print(len(danish_short_set))\n",
    "print(len(danish_short_set & top_dan_words))\n",
    "print('%.2f'%(len(danish_short_set & top_dan_words) / len(danish_short_set) *100), '%')"
   ]
  },
  {
   "cell_type": "code",
   "execution_count": 121,
   "metadata": {},
   "outputs": [
    {
     "name": "stdout",
     "output_type": "stream",
     "text": [
      "81\n",
      "26\n",
      "32.10 %\n"
     ]
    }
   ],
   "source": [
    "russian_short = decl_russian[100:200]\n",
    "russian_short_set = set(russian_short)\n",
    "print(len(russian_short_set))\n",
    "print(len(russian_short_set & top_rus_words))\n",
    "print('%.2f'%(len(russian_short_set & top_rus_words) / len(russian_short_set) *100), '%')"
   ]
  },
  {
   "cell_type": "code",
   "execution_count": 122,
   "metadata": {},
   "outputs": [
    {
     "name": "stdout",
     "output_type": "stream",
     "text": [
      "85\n",
      "17\n",
      "20.00 %\n"
     ]
    }
   ],
   "source": [
    "russian_short_1 = decl_russian[200:300]\n",
    "russian_short_set_1 = set(russian_short_1)\n",
    "print(len(russian_short_set_1))\n",
    "print(len(russian_short_set_1 & top_rus_words))\n",
    "print('%.2f'%(len(russian_short_set_1 & top_rus_words) / len(russian_short_set_1) *100), '%')"
   ]
  },
  {
   "cell_type": "markdown",
   "metadata": {},
   "source": [
    "Получается, если взять короткий отрывок статьи и выделить множество слов из него, то процент слов из множества, входящих в топ-300 частотных слов, будет заметно меняться в зависимости от отрывка: от 60-70% до 20-30%. Впрочем, наверное, этого всё равно достаточно для качественного определения языка. "
   ]
  }
 ],
 "metadata": {
  "kernelspec": {
   "display_name": "Python 3",
   "language": "python",
   "name": "python3"
  },
  "language_info": {
   "codemirror_mode": {
    "name": "ipython",
    "version": 3
   },
   "file_extension": ".py",
   "mimetype": "text/x-python",
   "name": "python",
   "nbconvert_exporter": "python",
   "pygments_lexer": "ipython3",
   "version": "3.6.1"
  }
 },
 "nbformat": 4,
 "nbformat_minor": 2
}
