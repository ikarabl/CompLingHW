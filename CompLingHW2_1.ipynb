{
 "cells": [
  {
   "cell_type": "code",
   "execution_count": 1,
   "metadata": {},
   "outputs": [],
   "source": [
    "import gensim\n",
    "import json\n",
    "import re\n",
    "from nltk.tokenize import word_tokenize\n",
    "from pymorphy2 import MorphAnalyzer\n",
    "import pyLDAvis.gensim \n",
    "\n",
    "morph = MorphAnalyzer()"
   ]
  },
  {
   "cell_type": "code",
   "execution_count": 2,
   "metadata": {},
   "outputs": [],
   "source": [
    "from tqdm import tqdm_notebook as tqdm\n",
    "from collections import Counter"
   ]
  },
  {
   "cell_type": "code",
   "execution_count": 3,
   "metadata": {},
   "outputs": [],
   "source": [
    "import numpy as np"
   ]
  },
  {
   "cell_type": "markdown",
   "metadata": {},
   "source": [
    "## Домашнее задание"
   ]
  },
  {
   "cell_type": "markdown",
   "metadata": {},
   "source": [
    "## Подготовка"
   ]
  },
  {
   "cell_type": "code",
   "execution_count": 4,
   "metadata": {},
   "outputs": [],
   "source": [
    "def remove_tags(text):\n",
    "    return re.sub(r'<[^>]+>', '', text)\n",
    "\n",
    "def clean(words):\n",
    "    clean = [morph.parse(word)[0].normal_form for word in words if len(set(word)) > 1]\n",
    "    return clean"
   ]
  },
  {
   "cell_type": "code",
   "execution_count": 5,
   "metadata": {},
   "outputs": [],
   "source": [
    "texts = open('habr_texts.txt').read().splitlines()"
   ]
  },
  {
   "cell_type": "code",
   "execution_count": 6,
   "metadata": {},
   "outputs": [
    {
     "data": {
      "application/vnd.jupyter.widget-view+json": {
       "model_id": "1c5b430e41fb4d3498b271978baf403f",
       "version_major": 2,
       "version_minor": 0
      },
      "text/html": [
       "<p>Failed to display Jupyter Widget of type <code>HBox</code>.</p>\n",
       "<p>\n",
       "  If you're reading this message in the Jupyter Notebook or JupyterLab Notebook, it may mean\n",
       "  that the widgets JavaScript is still loading. If this message persists, it\n",
       "  likely means that the widgets JavaScript library is either not installed or\n",
       "  not enabled. See the <a href=\"https://ipywidgets.readthedocs.io/en/stable/user_install.html\">Jupyter\n",
       "  Widgets Documentation</a> for setup instructions.\n",
       "</p>\n",
       "<p>\n",
       "  If you're reading this message in another frontend (for example, a static\n",
       "  rendering on GitHub or <a href=\"https://nbviewer.jupyter.org/\">NBViewer</a>),\n",
       "  it may mean that your frontend doesn't currently support widgets.\n",
       "</p>\n"
      ],
      "text/plain": [
       "HBox(children=(IntProgress(value=0, max=4121), HTML(value='')))"
      ]
     },
     "metadata": {},
     "output_type": "display_data"
    },
    {
     "name": "stdout",
     "output_type": "stream",
     "text": [
      "\n"
     ]
    }
   ],
   "source": [
    "texts = [clean(word_tokenize(text.lower())) for text in tqdm(texts)]"
   ]
  },
  {
   "cell_type": "code",
   "execution_count": 7,
   "metadata": {},
   "outputs": [],
   "source": [
    "# для нграммов\n",
    "ph = gensim.models.Phrases(texts, scoring='npmi', threshold=0.4) # threshold можно подбирать\n",
    "p = gensim.models.phrases.Phraser(ph)\n",
    "ngrammed_texts = p[texts]"
   ]
  },
  {
   "cell_type": "markdown",
   "metadata": {},
   "source": [
    "## Тематическое моделирование в gensim"
   ]
  },
  {
   "cell_type": "markdown",
   "metadata": {},
   "source": [
    "## Попытка 1"
   ]
  },
  {
   "cell_type": "code",
   "execution_count": 8,
   "metadata": {},
   "outputs": [],
   "source": [
    "dictionary = gensim.corpora.Dictionary(texts)"
   ]
  },
  {
   "cell_type": "code",
   "execution_count": 9,
   "metadata": {},
   "outputs": [],
   "source": [
    "dictionary.filter_extremes(no_above=0.3, no_below=30)\n",
    "dictionary.compactify()"
   ]
  },
  {
   "cell_type": "code",
   "execution_count": 10,
   "metadata": {},
   "outputs": [
    {
     "name": "stdout",
     "output_type": "stream",
     "text": [
      "Dictionary(7648 unique tokens: ['.net', '2-х', '3.0', 'address', 'api']...)\n"
     ]
    }
   ],
   "source": [
    "print(dictionary)"
   ]
  },
  {
   "cell_type": "code",
   "execution_count": 11,
   "metadata": {},
   "outputs": [],
   "source": [
    "corpus = [dictionary.doc2bow(text) for text in texts]\n"
   ]
  },
  {
   "cell_type": "markdown",
   "metadata": {},
   "source": [
    "#### Следующую ячейку я закомменчу, а то она печатает длиннющую простыню каких-то предупреждений."
   ]
  },
  {
   "cell_type": "code",
   "execution_count": 58,
   "metadata": {},
   "outputs": [],
   "source": [
    "\n",
    "#lda_1 = gensim.models.LdaModel(corpus, 200, id2word=dictionary, passes=5)"
   ]
  },
  {
   "cell_type": "code",
   "execution_count": 12,
   "metadata": {},
   "outputs": [],
   "source": [
    "#lda_1.print_topics()"
   ]
  },
  {
   "cell_type": "markdown",
   "metadata": {},
   "source": [
    "#### Вообще это не очень вдохновляет. Ну вот что-то понятное:"
   ]
  },
  {
   "cell_type": "code",
   "execution_count": 14,
   "metadata": {},
   "outputs": [
    {
     "data": {
      "text/plain": [
       "'0.195*\"печать\" + 0.098*\"принтер\" + 0.083*\"лист\" + 0.059*\"печатать\" + 0.037*\"бумага\" + 0.029*\"напечатать\" + 0.027*\"изготовление\" + 0.024*\"бумажный\" + 0.021*\"материал\" + 0.021*\"слой\" + 0.019*\"печатный\" + 0.017*\"деньга\" + 0.015*\"велосипед\" + 0.014*\"форма\" + 0.010*\"станок\"'"
      ]
     },
     "execution_count": 14,
     "metadata": {},
     "output_type": "execute_result"
    }
   ],
   "source": [
    "lda_1.print_topic(96, topn=15)"
   ]
  },
  {
   "cell_type": "code",
   "execution_count": 15,
   "metadata": {},
   "outputs": [
    {
     "data": {
      "text/plain": [
       "'0.135*\"пакет\" + 0.036*\"install\" + 0.036*\"sudo\" + 0.032*\"установка\" + 0.026*\"online\" + 0.020*\"apt-get\" + 0.020*\"clone\" + 0.018*\"настройка\" + 0.018*\"репозиторий\" + 0.017*\"make\" + 0.017*\"git\" + 0.017*\"ubuntu\" + 0.016*\"cd\" + 0.015*\"commit\" + 0.015*\"resources\"'"
      ]
     },
     "execution_count": 15,
     "metadata": {},
     "output_type": "execute_result"
    }
   ],
   "source": [
    "lda_1.print_topic(76, topn=15)"
   ]
  },
  {
   "cell_type": "code",
   "execution_count": 16,
   "metadata": {},
   "outputs": [
    {
     "data": {
      "text/plain": [
       "'0.028*\"сайт\" + 0.012*\"реклама\" + 0.011*\"страница\" + 0.009*\"рекламный\" + 0.009*\"ссылка\" + 0.009*\"сеть\" + 0.008*\"трафик\" + 0.008*\"партнёр\" + 0.007*\"партнерский\" + 0.007*\"клиент\" + 0.006*\"продажа\" + 0.006*\"канал\" + 0.006*\"контент\" + 0.005*\"посетитель\" + 0.005*\"google\"'"
      ]
     },
     "execution_count": 16,
     "metadata": {},
     "output_type": "execute_result"
    }
   ],
   "source": [
    "lda_1.print_topic(20, topn=15)"
   ]
  },
  {
   "cell_type": "markdown",
   "metadata": {},
   "source": [
    "#### Coherence"
   ]
  },
  {
   "cell_type": "code",
   "execution_count": 23,
   "metadata": {},
   "outputs": [],
   "source": [
    "coherence_model_lda_1 = gensim.models.CoherenceModel(model=lda_1, \n",
    "                                                   texts=texts, \n",
    "                                                   dictionary=dictionary, coherence='c_v')"
   ]
  },
  {
   "cell_type": "code",
   "execution_count": 24,
   "metadata": {},
   "outputs": [
    {
     "data": {
      "text/plain": [
       "0.43868283127823665"
      ]
     },
     "execution_count": 24,
     "metadata": {},
     "output_type": "execute_result"
    }
   ],
   "source": [
    "coherence_model_lda_1.get_coherence()"
   ]
  },
  {
   "cell_type": "code",
   "execution_count": 25,
   "metadata": {},
   "outputs": [],
   "source": [
    "topics = []\n",
    "for topic_id, topic in lda_1.show_topics(num_topics=100, formatted=False):\n",
    "    topic = [word for word, _ in topic]\n",
    "    topics.append(topic)"
   ]
  },
  {
   "cell_type": "code",
   "execution_count": 27,
   "metadata": {},
   "outputs": [],
   "source": [
    "coherence_model_lda_11 = gensim.models.CoherenceModel(topics=topics, \n",
    "                                                   texts=texts, \n",
    "                                                   dictionary=dictionary, coherence='c_v')"
   ]
  },
  {
   "cell_type": "code",
   "execution_count": 28,
   "metadata": {},
   "outputs": [
    {
     "data": {
      "text/plain": [
       "0.5145657231248567"
      ]
     },
     "execution_count": 28,
     "metadata": {},
     "output_type": "execute_result"
    }
   ],
   "source": [
    "coherence_model_lda_11.get_coherence()"
   ]
  },
  {
   "cell_type": "markdown",
   "metadata": {},
   "source": [
    "## Попытка 2. Немножко поменяем словарь"
   ]
  },
  {
   "cell_type": "code",
   "execution_count": 39,
   "metadata": {},
   "outputs": [],
   "source": [
    "dictinary = gensim.corpora.Dictionary(texts)"
   ]
  },
  {
   "cell_type": "code",
   "execution_count": 40,
   "metadata": {},
   "outputs": [],
   "source": [
    "dictinary.filter_extremes(no_above=0.2, no_below=30)\n",
    "dictinary.compactify()"
   ]
  },
  {
   "cell_type": "code",
   "execution_count": 41,
   "metadata": {},
   "outputs": [
    {
     "name": "stdout",
     "output_type": "stream",
     "text": [
      "Dictionary(7451 unique tokens: ['.net', '2-х', '3.0', 'address', 'api']...)\n"
     ]
    }
   ],
   "source": [
    "print(dictinary)"
   ]
  },
  {
   "cell_type": "code",
   "execution_count": 32,
   "metadata": {},
   "outputs": [],
   "source": [
    "corpus = [dictinary.doc2bow(text) for text in texts]"
   ]
  },
  {
   "cell_type": "code",
   "execution_count": 59,
   "metadata": {},
   "outputs": [],
   "source": [
    "#lda_2 = gensim.models.LdaModel(corpus, 200, id2word=dictinary, passes=5)"
   ]
  },
  {
   "cell_type": "code",
   "execution_count": 13,
   "metadata": {},
   "outputs": [],
   "source": [
    "#lda_2.print_topics()"
   ]
  },
  {
   "cell_type": "code",
   "execution_count": 35,
   "metadata": {},
   "outputs": [
    {
     "data": {
      "text/plain": [
       "'0.065*\"клетка\" + 0.031*\"ген\" + 0.019*\"женщина\" + 0.016*\"тело\" + 0.015*\"деление\" + 0.015*\"молекула\" + 0.014*\"образование\" + 0.012*\"мужчина\" + 0.011*\"генетический\" + 0.010*\"мутация\" + 0.010*\"материал\" + 0.009*\"жить\" + 0.008*\"существо\" + 0.008*\"организм\" + 0.008*\"днк\"'"
      ]
     },
     "execution_count": 35,
     "metadata": {},
     "output_type": "execute_result"
    }
   ],
   "source": [
    "lda_2.print_topic(47, topn=15)"
   ]
  },
  {
   "cell_type": "code",
   "execution_count": 36,
   "metadata": {},
   "outputs": [
    {
     "data": {
      "text/plain": [
       "'0.156*\"пациент\" + 0.065*\"бактерия\" + 0.064*\"вирус\" + 0.063*\"лечение\" + 0.060*\"заболевание\" + 0.056*\"лекарство\" + 0.043*\"терапия\" + 0.040*\"геном\" + 0.039*\"доктор\" + 0.033*\"клинический\" + 0.032*\"препарат\" + 0.031*\"днк\" + 0.018*\"организм\" + 0.017*\"борьба\" + 0.016*\"диагностировать\"'"
      ]
     },
     "execution_count": 36,
     "metadata": {},
     "output_type": "execute_result"
    }
   ],
   "source": [
    "lda_2.print_topic(176, topn=15)"
   ]
  },
  {
   "cell_type": "code",
   "execution_count": 37,
   "metadata": {},
   "outputs": [
    {
     "data": {
      "text/plain": [
       "'0.096*\"безопасность\" + 0.055*\"router\" + 0.049*\"защита\" + 0.036*\"изоляция\" + 0.034*\"антивирусный\" + 0.030*\"отпечаток\" + 0.029*\"безопасный\" + 0.026*\"контролировать\" + 0.023*\"включая\" + 0.022*\"protection\" + 0.021*\"security\" + 0.021*\"защищать\" + 0.020*\"amp\" + 0.020*\"палец\" + 0.020*\"включать\"'"
      ]
     },
     "execution_count": 37,
     "metadata": {},
     "output_type": "execute_result"
    }
   ],
   "source": [
    "lda_2.print_topic(8, topn=15)"
   ]
  },
  {
   "cell_type": "code",
   "execution_count": 38,
   "metadata": {},
   "outputs": [
    {
     "data": {
      "text/plain": [
       "'0.012*\"скачать\" + 0.009*\"запрос\" + 0.008*\"протокол\" + 0.008*\"поисковый\" + 0.007*\"архив\" + 0.007*\"популярный\" + 0.007*\"скачивание\" + 0.007*\"релиз\" + 0.006*\"product\" + 0.005*\"фото\" + 0.005*\"искать\" + 0.005*\"добавлять\" + 0.005*\"удалять\" + 0.004*\"выбирать\" + 0.004*\"скачивать\"'"
      ]
     },
     "execution_count": 38,
     "metadata": {},
     "output_type": "execute_result"
    }
   ],
   "source": [
    "lda_2.print_topic(57, topn=15)"
   ]
  },
  {
   "cell_type": "code",
   "execution_count": 39,
   "metadata": {},
   "outputs": [
    {
     "data": {
      "text/plain": [
       "'0.583*\"рейтинг\" + 0.162*\"кредит\" + 0.071*\"формула\" + 0.048*\"кредитный\" + 0.017*\"величина\" + 0.006*\"лимит\" + 0.006*\"блокирование\" + 0.004*\"выручка\" + 0.004*\"снег\" + 0.004*\"сделка\" + 0.004*\"деньга\" + 0.003*\"выделяться\" + 0.003*\"субъект\" + 0.002*\"зарплата\" + 0.002*\"норма\"'"
      ]
     },
     "execution_count": 39,
     "metadata": {},
     "output_type": "execute_result"
    }
   ],
   "source": [
    "lda_2.print_topic(72, topn=15)"
   ]
  },
  {
   "cell_type": "code",
   "execution_count": 41,
   "metadata": {},
   "outputs": [],
   "source": [
    "cm_2 = gensim.models.CoherenceModel(model=lda_2, \n",
    "                                    texts=texts, \n",
    "                                    dictionary=dictinary, coherence='c_v')"
   ]
  },
  {
   "cell_type": "code",
   "execution_count": 42,
   "metadata": {},
   "outputs": [
    {
     "data": {
      "text/plain": [
       "0.46528387144159844"
      ]
     },
     "execution_count": 42,
     "metadata": {},
     "output_type": "execute_result"
    }
   ],
   "source": [
    "cm_2.get_coherence()"
   ]
  },
  {
   "cell_type": "markdown",
   "metadata": {},
   "source": [
    "## Попытка 3. Увеличим количество проходов: passes = 10"
   ]
  },
  {
   "cell_type": "code",
   "execution_count": 60,
   "metadata": {
    "scrolled": true
   },
   "outputs": [],
   "source": [
    "#lda_3 = gensim.models.LdaModel(corpus, 200, id2word=dictinary, passes=10)"
   ]
  },
  {
   "cell_type": "code",
   "execution_count": 14,
   "metadata": {},
   "outputs": [],
   "source": [
    "#lda_3.print_topics()"
   ]
  },
  {
   "cell_type": "markdown",
   "metadata": {},
   "source": [
    "#### Вот вроде около дела:"
   ]
  },
  {
   "cell_type": "code",
   "execution_count": 48,
   "metadata": {},
   "outputs": [
    {
     "data": {
      "text/plain": [
       "'0.096*\"кожа\" + 0.046*\"человеческий\" + 0.034*\"учёный\" + 0.029*\"научный\" + 0.024*\"журнал\" + 0.023*\"орган\" + 0.022*\"образец\" + 0.021*\"разработать\" + 0.020*\"материал\" + 0.020*\"кровь\" + 0.018*\"предшественник\" + 0.018*\"опубликовать\" + 0.017*\"подходящий\" + 0.016*\"2016\" + 0.016*\"живой\"'"
      ]
     },
     "execution_count": 48,
     "metadata": {},
     "output_type": "execute_result"
    }
   ],
   "source": [
    "lda_3.print_topic(185, topn=15)"
   ]
  },
  {
   "cell_type": "code",
   "execution_count": 49,
   "metadata": {},
   "outputs": [
    {
     "data": {
      "text/plain": [
       "'0.108*\"репозиторий\" + 0.079*\"коммит\" + 0.074*\"git\" + 0.053*\"ветка\" + 0.039*\"github\" + 0.024*\"commit\" + 0.023*\"configuration\" + 0.022*\"link\" + 0.019*\"релиз\" + 0.018*\"сборка\" + 0.017*\"flow\" + 0.017*\"repository\" + 0.016*\"origin\" + 0.015*\"master\" + 0.014*\"конфигурация\"'"
      ]
     },
     "execution_count": 49,
     "metadata": {},
     "output_type": "execute_result"
    }
   ],
   "source": [
    "lda_3.print_topic(45, topn=15)"
   ]
  },
  {
   "cell_type": "code",
   "execution_count": 50,
   "metadata": {},
   "outputs": [
    {
     "data": {
      "text/plain": [
       "'0.145*\"игра\" + 0.059*\"игрок\" + 0.023*\"играть\" + 0.023*\"игровой\" + 0.012*\"исследование\" + 0.011*\"удача\" + 0.007*\"аудитория\" + 0.007*\"жанр\" + 0.006*\"дизайнер\" + 0.006*\"шанс\" + 0.005*\"случайный\" + 0.005*\"персонаж\" + 0.005*\"движок\" + 0.004*\"карта\" + 0.004*\"геймплей\"'"
      ]
     },
     "execution_count": 50,
     "metadata": {},
     "output_type": "execute_result"
    }
   ],
   "source": [
    "lda_3.print_topic(42, topn=15)"
   ]
  },
  {
   "cell_type": "markdown",
   "metadata": {},
   "source": [
    "#### Coherence:"
   ]
  },
  {
   "cell_type": "code",
   "execution_count": 53,
   "metadata": {},
   "outputs": [],
   "source": [
    "cm_3 = gensim.models.CoherenceModel(model=lda_3, \n",
    "                                    texts=texts, \n",
    "                                    dictionary=dictinary, coherence='c_v')"
   ]
  },
  {
   "cell_type": "code",
   "execution_count": 54,
   "metadata": {},
   "outputs": [
    {
     "data": {
      "text/plain": [
       "0.47719632137565043"
      ]
     },
     "execution_count": 54,
     "metadata": {},
     "output_type": "execute_result"
    }
   ],
   "source": [
    "cm_3.get_coherence()"
   ]
  },
  {
   "cell_type": "markdown",
   "metadata": {},
   "source": [
    "## Попытка 4. Увеличим количество тем до 300"
   ]
  },
  {
   "cell_type": "code",
   "execution_count": 61,
   "metadata": {},
   "outputs": [],
   "source": [
    "#lda_4 = gensim.models.LdaModel(corpus, 300, id2word=dictionary, passes=5)"
   ]
  },
  {
   "cell_type": "code",
   "execution_count": 15,
   "metadata": {},
   "outputs": [],
   "source": [
    "#lda_4.print_topics()"
   ]
  },
  {
   "cell_type": "markdown",
   "metadata": {},
   "source": [
    "#### Как-то вообще ничего хорошего не видно."
   ]
  },
  {
   "cell_type": "code",
   "execution_count": 60,
   "metadata": {},
   "outputs": [],
   "source": [
    "cm_4 = gensim.models.CoherenceModel(model=lda_4, \n",
    "                                    texts=texts, \n",
    "                                    dictionary=dictionary, coherence='c_v')"
   ]
  },
  {
   "cell_type": "code",
   "execution_count": 61,
   "metadata": {},
   "outputs": [
    {
     "data": {
      "text/plain": [
       "0.4361736468211802"
      ]
     },
     "execution_count": 61,
     "metadata": {},
     "output_type": "execute_result"
    }
   ],
   "source": [
    "cm_4.get_coherence()"
   ]
  },
  {
   "cell_type": "markdown",
   "metadata": {},
   "source": [
    "## Попытка 5. Психанула и убрала из текстов латинские буквы"
   ]
  },
  {
   "cell_type": "code",
   "execution_count": 16,
   "metadata": {},
   "outputs": [],
   "source": [
    "def only_cyrillic(text):\n",
    "    return re.sub(r'[A-Za-z]', '', text)"
   ]
  },
  {
   "cell_type": "code",
   "execution_count": 17,
   "metadata": {},
   "outputs": [],
   "source": [
    "t = open('habr_texts.txt').read().splitlines()\n",
    "new_texts = [only_cyrillic(text) for text in t]\n",
    "#texts = [clean(text.lower()) for text in tqdm(texts)]\n",
    "#texts = [clean(word_tokenize(text.lower())) for text in tqdm(t)]"
   ]
  },
  {
   "cell_type": "code",
   "execution_count": 18,
   "metadata": {},
   "outputs": [
    {
     "data": {
      "application/vnd.jupyter.widget-view+json": {
       "model_id": "972a436f7fbd42bd926ba241ed010bbd",
       "version_major": 2,
       "version_minor": 0
      },
      "text/html": [
       "<p>Failed to display Jupyter Widget of type <code>HBox</code>.</p>\n",
       "<p>\n",
       "  If you're reading this message in the Jupyter Notebook or JupyterLab Notebook, it may mean\n",
       "  that the widgets JavaScript is still loading. If this message persists, it\n",
       "  likely means that the widgets JavaScript library is either not installed or\n",
       "  not enabled. See the <a href=\"https://ipywidgets.readthedocs.io/en/stable/user_install.html\">Jupyter\n",
       "  Widgets Documentation</a> for setup instructions.\n",
       "</p>\n",
       "<p>\n",
       "  If you're reading this message in another frontend (for example, a static\n",
       "  rendering on GitHub or <a href=\"https://nbviewer.jupyter.org/\">NBViewer</a>),\n",
       "  it may mean that your frontend doesn't currently support widgets.\n",
       "</p>\n"
      ],
      "text/plain": [
       "HBox(children=(IntProgress(value=0, max=4121), HTML(value='')))"
      ]
     },
     "metadata": {},
     "output_type": "display_data"
    },
    {
     "name": "stdout",
     "output_type": "stream",
     "text": [
      "\n"
     ]
    }
   ],
   "source": [
    "new_texts = [clean(word_tokenize(text.lower())) for text in tqdm(new_texts)]\n"
   ]
  },
  {
   "cell_type": "code",
   "execution_count": 19,
   "metadata": {},
   "outputs": [],
   "source": [
    "new_dict = gensim.corpora.Dictionary(new_texts)"
   ]
  },
  {
   "cell_type": "code",
   "execution_count": 20,
   "metadata": {},
   "outputs": [],
   "source": [
    "new_dict.filter_extremes(no_above=0.3, no_below=30)\n",
    "new_dict.compactify()"
   ]
  },
  {
   "cell_type": "code",
   "execution_count": 21,
   "metadata": {},
   "outputs": [
    {
     "name": "stdout",
     "output_type": "stream",
     "text": [
      "Dictionary(6718 unique tokens: ['.заключение', '2-х', '3.0', '30', '_.']...)\n"
     ]
    }
   ],
   "source": [
    "print(new_dict)"
   ]
  },
  {
   "cell_type": "code",
   "execution_count": 22,
   "metadata": {},
   "outputs": [],
   "source": [
    "new_corpus = [new_dict.doc2bow(text) for text in texts]"
   ]
  },
  {
   "cell_type": "code",
   "execution_count": 62,
   "metadata": {},
   "outputs": [],
   "source": [
    "#lda_5 = gensim.models.LdaModel(new_corpus, 200, id2word=new_dict, passes=5)"
   ]
  },
  {
   "cell_type": "code",
   "execution_count": 53,
   "metadata": {},
   "outputs": [],
   "source": [
    "#lda_5.print_topics()"
   ]
  },
  {
   "cell_type": "markdown",
   "metadata": {},
   "source": [
    "#### Кажется, неплохо:"
   ]
  },
  {
   "cell_type": "code",
   "execution_count": 28,
   "metadata": {},
   "outputs": [
    {
     "data": {
      "text/plain": [
       "'0.071*\"безопасность\" + 0.050*\"защита\" + 0.040*\"информационный\" + 0.026*\"атака\" + 0.024*\"доступ\" + 0.018*\"организация\" + 0.018*\"утечка\" + 0.014*\"шифрование\" + 0.014*\"обеспечение\" + 0.013*\"инфраструктура\"'"
      ]
     },
     "execution_count": 28,
     "metadata": {},
     "output_type": "execute_result"
    }
   ],
   "source": [
    "lda_5.print_topic(43, topn=10)"
   ]
  },
  {
   "cell_type": "code",
   "execution_count": 29,
   "metadata": {},
   "outputs": [
    {
     "data": {
      "text/plain": [
       "'0.130*\"канал\" + 0.104*\"трафик\" + 0.095*\"связь\" + 0.064*\"оператор\" + 0.057*\"интернет\" + 0.051*\"передача\" + 0.050*\"кабель\" + 0.043*\"скорость\" + 0.032*\"обмен\" + 0.031*\"сеть\"'"
      ]
     },
     "execution_count": 29,
     "metadata": {},
     "output_type": "execute_result"
    }
   ],
   "source": [
    "lda_5.print_topic(136, topn=10)"
   ]
  },
  {
   "cell_type": "code",
   "execution_count": 30,
   "metadata": {},
   "outputs": [
    {
     "data": {
      "text/plain": [
       "'0.080*\"экзамен\" + 0.067*\"сдача\" + 0.065*\"курс\" + 0.063*\"домашний\" + 0.046*\"ведение\" + 0.045*\"подготовка\" + 0.033*\"отклик\" + 0.032*\"шкала\" + 0.031*\"сервис\" + 0.027*\"материал\"'"
      ]
     },
     "execution_count": 30,
     "metadata": {},
     "output_type": "execute_result"
    }
   ],
   "source": [
    "lda_5.print_topic(95, topn=10)"
   ]
  },
  {
   "cell_type": "code",
   "execution_count": 31,
   "metadata": {},
   "outputs": [
    {
     "data": {
      "text/plain": [
       "'0.073*\"астероид\" + 0.055*\"земля\" + 0.038*\"луна\" + 0.037*\"объект\" + 0.033*\"орбита\" + 0.027*\"тело\" + 0.023*\"расстояние\" + 0.020*\"пояс\" + 0.019*\"столкновение\" + 0.017*\"размер\"'"
      ]
     },
     "execution_count": 31,
     "metadata": {},
     "output_type": "execute_result"
    }
   ],
   "source": [
    "lda_5.print_topic(131, topn=10)"
   ]
  },
  {
   "cell_type": "code",
   "execution_count": 32,
   "metadata": {},
   "outputs": [
    {
     "data": {
      "text/plain": [
       "'0.411*\"герой\" + 0.194*\"википедия\" + 0.077*\"запретить\" + 0.053*\"заблокировать\" + 0.041*\"отменить\" + 0.034*\"вооружённый\" + 0.020*\"якобы\" + 0.014*\"блокировка\" + 0.013*\"реестр\" + 0.010*\"тактика\"'"
      ]
     },
     "execution_count": 32,
     "metadata": {},
     "output_type": "execute_result"
    }
   ],
   "source": [
    "lda_5.print_topic(153, topn=10)"
   ]
  },
  {
   "cell_type": "code",
   "execution_count": 33,
   "metadata": {},
   "outputs": [
    {
     "data": {
      "text/plain": [
       "'0.071*\"корея\" + 0.045*\"южный\" + 0.034*\"поезд\" + 0.030*\"страна\" + 0.022*\"корейский\" + 0.018*\"технология\" + 0.016*\"интернет\" + 0.013*\"рекорд\" + 0.010*\"высокий\" + 0.010*\"транспорт\"'"
      ]
     },
     "execution_count": 33,
     "metadata": {},
     "output_type": "execute_result"
    }
   ],
   "source": [
    "lda_5.print_topic(71, topn=10)"
   ]
  },
  {
   "cell_type": "code",
   "execution_count": 34,
   "metadata": {},
   "outputs": [
    {
     "data": {
      "text/plain": [
       "'0.000*\"класс\" + 0.000*\"метод\" + 0.000*\"элемент\" + 0.000*\"библиотека\" + 0.000*\"объект\" + 0.000*\"список\" + 0.000*\"про\" + 0.000*\"сообщение\" + 0.000*\"защита\" + 0.000*\"страница\"'"
      ]
     },
     "execution_count": 34,
     "metadata": {},
     "output_type": "execute_result"
    }
   ],
   "source": [
    "lda_5.print_topic(83, topn=10)"
   ]
  },
  {
   "cell_type": "code",
   "execution_count": 35,
   "metadata": {},
   "outputs": [
    {
     "data": {
      "text/plain": [
       "'0.043*\"перевод\" + 0.029*\"электроника\" + 0.019*\"материал\" + 0.016*\"переводчик\" + 0.016*\"локализация\" + 0.015*\"язык\" + 0.015*\"тема\" + 0.014*\"английский\" + 0.013*\"перевести\" + 0.010*\"литература\"'"
      ]
     },
     "execution_count": 35,
     "metadata": {},
     "output_type": "execute_result"
    }
   ],
   "source": [
    "lda_5.print_topic(35, topn=10)"
   ]
  },
  {
   "cell_type": "code",
   "execution_count": 26,
   "metadata": {},
   "outputs": [],
   "source": [
    "cm_5 = gensim.models.CoherenceModel(model=lda_5, \n",
    "                                    texts=new_texts, \n",
    "                                    dictionary=new_dict, coherence='c_v')"
   ]
  },
  {
   "cell_type": "code",
   "execution_count": 27,
   "metadata": {},
   "outputs": [
    {
     "data": {
      "text/plain": [
       "0.41239157364531265"
      ]
     },
     "execution_count": 27,
     "metadata": {},
     "output_type": "execute_result"
    }
   ],
   "source": [
    "cm_5.get_coherence()"
   ]
  },
  {
   "cell_type": "markdown",
   "metadata": {},
   "source": [
    "## Разложение матриц в sklearn"
   ]
  },
  {
   "cell_type": "code",
   "execution_count": 45,
   "metadata": {},
   "outputs": [],
   "source": [
    "from sklearn.decomposition import NMF\n",
    "from sklearn.feature_extraction.text import CountVectorizer, TfidfVectorizer\n",
    "import pandas as pd"
   ]
  },
  {
   "cell_type": "code",
   "execution_count": 46,
   "metadata": {},
   "outputs": [],
   "source": [
    "stexts = [' '.join(text) for text in texts]"
   ]
  },
  {
   "cell_type": "code",
   "execution_count": 47,
   "metadata": {},
   "outputs": [],
   "source": [
    "vectorizer = TfidfVectorizer(max_features=25000, min_df=5, max_df=0.3, lowercase=False)\n",
    "X = vectorizer.fit_transform(stexts)"
   ]
  },
  {
   "cell_type": "code",
   "execution_count": 48,
   "metadata": {},
   "outputs": [],
   "source": [
    "model = NMF(n_components=30)"
   ]
  },
  {
   "cell_type": "code",
   "execution_count": 49,
   "metadata": {},
   "outputs": [
    {
     "data": {
      "text/plain": [
       "NMF(alpha=0.0, beta_loss='frobenius', init=None, l1_ratio=0.0, max_iter=200,\n",
       "  n_components=30, random_state=None, shuffle=False, solver='cd',\n",
       "  tol=0.0001, verbose=0)"
      ]
     },
     "execution_count": 49,
     "metadata": {},
     "output_type": "execute_result"
    }
   ],
   "source": [
    "model.fit(X)"
   ]
  },
  {
   "cell_type": "code",
   "execution_count": 50,
   "metadata": {},
   "outputs": [],
   "source": [
    "def get_nmf_topics(model, n_top_words):\n",
    "    \n",
    "    #id слов.\n",
    "    feat_names = vectorizer.get_feature_names()\n",
    "    \n",
    "    word_dict = {};\n",
    "    for i in range(30):\n",
    "        \n",
    "        #топ n слов для темы.\n",
    "        words_ids = model.components_[i].argsort()[:-n_top_words - 1:-1]\n",
    "        words = [feat_names[key] for key in words_ids]\n",
    "        word_dict['Topic # ' + '{:02d}'.format(i+1)] = words;\n",
    "    \n",
    "    return pd.DataFrame(word_dict);"
   ]
  },
  {
   "cell_type": "code",
   "execution_count": 51,
   "metadata": {},
   "outputs": [
    {
     "data": {
      "text/html": [
       "<div>\n",
       "<style scoped>\n",
       "    .dataframe tbody tr th:only-of-type {\n",
       "        vertical-align: middle;\n",
       "    }\n",
       "\n",
       "    .dataframe tbody tr th {\n",
       "        vertical-align: top;\n",
       "    }\n",
       "\n",
       "    .dataframe thead th {\n",
       "        text-align: right;\n",
       "    }\n",
       "</style>\n",
       "<table border=\"1\" class=\"dataframe\">\n",
       "  <thead>\n",
       "    <tr style=\"text-align: right;\">\n",
       "      <th></th>\n",
       "      <th>Topic # 01</th>\n",
       "      <th>Topic # 02</th>\n",
       "      <th>Topic # 03</th>\n",
       "      <th>Topic # 04</th>\n",
       "      <th>Topic # 05</th>\n",
       "      <th>Topic # 06</th>\n",
       "      <th>Topic # 07</th>\n",
       "      <th>Topic # 08</th>\n",
       "      <th>Topic # 09</th>\n",
       "      <th>Topic # 10</th>\n",
       "      <th>...</th>\n",
       "      <th>Topic # 21</th>\n",
       "      <th>Topic # 22</th>\n",
       "      <th>Topic # 23</th>\n",
       "      <th>Topic # 24</th>\n",
       "      <th>Topic # 25</th>\n",
       "      <th>Topic # 26</th>\n",
       "      <th>Topic # 27</th>\n",
       "      <th>Topic # 28</th>\n",
       "      <th>Topic # 29</th>\n",
       "      <th>Topic # 30</th>\n",
       "    </tr>\n",
       "  </thead>\n",
       "  <tbody>\n",
       "    <tr>\n",
       "      <th>0</th>\n",
       "      <td>ты</td>\n",
       "      <td>gt</td>\n",
       "      <td>игра</td>\n",
       "      <td>космический</td>\n",
       "      <td>звук</td>\n",
       "      <td>сеть</td>\n",
       "      <td>камера</td>\n",
       "      <td>js</td>\n",
       "      <td>рынок</td>\n",
       "      <td>файл</td>\n",
       "      <td>...</td>\n",
       "      <td>язык</td>\n",
       "      <td>сайт</td>\n",
       "      <td>public</td>\n",
       "      <td>дата</td>\n",
       "      <td>бот</td>\n",
       "      <td>книга</td>\n",
       "      <td>объект</td>\n",
       "      <td>товар</td>\n",
       "      <td>if</td>\n",
       "      <td>vr</td>\n",
       "    </tr>\n",
       "    <tr>\n",
       "      <th>1</th>\n",
       "      <td>продукт</td>\n",
       "      <td>lt</td>\n",
       "      <td>игрок</td>\n",
       "      <td>спутник</td>\n",
       "      <td>сигнал</td>\n",
       "      <td>трафик</td>\n",
       "      <td>устройство</td>\n",
       "      <td>react</td>\n",
       "      <td>российский</td>\n",
       "      <td>php</td>\n",
       "      <td>...</td>\n",
       "      <td>обучение</td>\n",
       "      <td>страница</td>\n",
       "      <td>string</td>\n",
       "      <td>центр</td>\n",
       "      <td>telegram</td>\n",
       "      <td>часы</td>\n",
       "      <td>значение</td>\n",
       "      <td>скидка</td>\n",
       "      <td>int</td>\n",
       "      <td>виртуальный</td>\n",
       "    </tr>\n",
       "    <tr>\n",
       "      <th>2</th>\n",
       "      <td>клиент</td>\n",
       "      <td>div</td>\n",
       "      <td>игровой</td>\n",
       "      <td>орбита</td>\n",
       "      <td>наушник</td>\n",
       "      <td>связь</td>\n",
       "      <td>смартфон</td>\n",
       "      <td>css</td>\n",
       "      <td>страна</td>\n",
       "      <td>docker</td>\n",
       "      <td>...</td>\n",
       "      <td>программирование</td>\n",
       "      <td>реклама</td>\n",
       "      <td>void</td>\n",
       "      <td>сервер</td>\n",
       "      <td>сообщение</td>\n",
       "      <td>каковать</td>\n",
       "      <td>элемент</td>\n",
       "      <td>магазин</td>\n",
       "      <td>amp</td>\n",
       "      <td>реальность</td>\n",
       "    </tr>\n",
       "    <tr>\n",
       "      <th>3</th>\n",
       "      <td>сотрудник</td>\n",
       "      <td>class</td>\n",
       "      <td>играть</td>\n",
       "      <td>ракета</td>\n",
       "      <td>усилитель</td>\n",
       "      <td>оператор</td>\n",
       "      <td>датчик</td>\n",
       "      <td>javascript</td>\n",
       "      <td>бизнес</td>\n",
       "      <td>сервер</td>\n",
       "      <td>...</td>\n",
       "      <td>робот</td>\n",
       "      <td>браузер</td>\n",
       "      <td>new</td>\n",
       "      <td>инфраструктура</td>\n",
       "      <td>чат</td>\n",
       "      <td>порекомендовать</td>\n",
       "      <td>метод</td>\n",
       "      <td>цена</td>\n",
       "      <td>lt</td>\n",
       "      <td>oculus</td>\n",
       "    </tr>\n",
       "    <tr>\n",
       "      <th>4</th>\n",
       "      <td>бизнес</td>\n",
       "      <td>name</td>\n",
       "      <td>персонаж</td>\n",
       "      <td>марс</td>\n",
       "      <td>частота</td>\n",
       "      <td>ip</td>\n",
       "      <td>аккумулятор</td>\n",
       "      <td>angular</td>\n",
       "      <td>россия</td>\n",
       "      <td>http</td>\n",
       "      <td>...</td>\n",
       "      <td>нейросеть</td>\n",
       "      <td>контент</td>\n",
       "      <td>this</td>\n",
       "      <td>облачный</td>\n",
       "      <td>телеграм</td>\n",
       "      <td>профессиональный</td>\n",
       "      <td>блок</td>\n",
       "      <td>распродажа</td>\n",
       "      <td>return</td>\n",
       "      <td>шлем</td>\n",
       "    </tr>\n",
       "    <tr>\n",
       "      <th>5</th>\n",
       "      <td>программист</td>\n",
       "      <td>this</td>\n",
       "      <td>steam</td>\n",
       "      <td>аппарат</td>\n",
       "      <td>звуковой</td>\n",
       "      <td>интернет</td>\n",
       "      <td>телефон</td>\n",
       "      <td>веб</td>\n",
       "      <td>рубль</td>\n",
       "      <td>sudo</td>\n",
       "      <td>...</td>\n",
       "      <td>лекция</td>\n",
       "      <td>google</td>\n",
       "      <td>return</td>\n",
       "      <td>облако</td>\n",
       "      <td>bot</td>\n",
       "      <td>каким</td>\n",
       "      <td>строка</td>\n",
       "      <td>покупатель</td>\n",
       "      <td>else</td>\n",
       "      <td>vive</td>\n",
       "    </tr>\n",
       "    <tr>\n",
       "      <th>6</th>\n",
       "      <td>надо</td>\n",
       "      <td>props</td>\n",
       "      <td>unity</td>\n",
       "      <td>земля</td>\n",
       "      <td>музыка</td>\n",
       "      <td>dpi</td>\n",
       "      <td>видео</td>\n",
       "      <td>vue</td>\n",
       "      <td>налог</td>\n",
       "      <td>nginx</td>\n",
       "      <td>...</td>\n",
       "      <td>курс</td>\n",
       "      <td>домен</td>\n",
       "      <td>private</td>\n",
       "      <td>услуга</td>\n",
       "      <td>api</td>\n",
       "      <td>предпочитать</td>\n",
       "      <td>класс</td>\n",
       "      <td>пятница</td>\n",
       "      <td>null</td>\n",
       "      <td>htc</td>\n",
       "    </tr>\n",
       "    <tr>\n",
       "      <th>7</th>\n",
       "      <td>менеджер</td>\n",
       "      <td>return</td>\n",
       "      <td>геймплей</td>\n",
       "      <td>луна</td>\n",
       "      <td>искажение</td>\n",
       "      <td>канал</td>\n",
       "      <td>робот</td>\n",
       "      <td>браузер</td>\n",
       "      <td>доход</td>\n",
       "      <td>скрипт</td>\n",
       "      <td>...</td>\n",
       "      <td>программа</td>\n",
       "      <td>рекламный</td>\n",
       "      <td>var</td>\n",
       "      <td>оборудование</td>\n",
       "      <td>мессенджер</td>\n",
       "      <td>бумажный</td>\n",
       "      <td>алгоритм</td>\n",
       "      <td>покупка</td>\n",
       "      <td>char</td>\n",
       "      <td>unreal</td>\n",
       "    </tr>\n",
       "    <tr>\n",
       "      <th>8</th>\n",
       "      <td>да</td>\n",
       "      <td>html</td>\n",
       "      <td>жанр</td>\n",
       "      <td>наса</td>\n",
       "      <td>акустический</td>\n",
       "      <td>сетевой</td>\n",
       "      <td>корпус</td>\n",
       "      <td>компонент</td>\n",
       "      <td>закон</td>\n",
       "      <td>etc</td>\n",
       "      <td>...</td>\n",
       "      <td>ребёнок</td>\n",
       "      <td>клиент</td>\n",
       "      <td>class</td>\n",
       "      <td>клиент</td>\n",
       "      <td>канал</td>\n",
       "      <td>слушать</td>\n",
       "      <td>файл</td>\n",
       "      <td>чёрный</td>\n",
       "      <td>void</td>\n",
       "      <td>дополнить</td>\n",
       "    </tr>\n",
       "    <tr>\n",
       "      <th>9</th>\n",
       "      <td>опыт</td>\n",
       "      <td>value</td>\n",
       "      <td>инди</td>\n",
       "      <td>полёт</td>\n",
       "      <td>звучание</td>\n",
       "      <td>устройство</td>\n",
       "      <td>экран</td>\n",
       "      <td>dom</td>\n",
       "      <td>деньга</td>\n",
       "      <td>usr</td>\n",
       "      <td>...</td>\n",
       "      <td>машинный</td>\n",
       "      <td>com</td>\n",
       "      <td>класс</td>\n",
       "      <td>цод</td>\n",
       "      <td>message</td>\n",
       "      <td>путь</td>\n",
       "      <td>точка</td>\n",
       "      <td>продажа</td>\n",
       "      <td>std</td>\n",
       "      <td>машина</td>\n",
       "    </tr>\n",
       "  </tbody>\n",
       "</table>\n",
       "<p>10 rows × 30 columns</p>\n",
       "</div>"
      ],
      "text/plain": [
       "    Topic # 01 Topic # 02 Topic # 03   Topic # 04    Topic # 05  Topic # 06  \\\n",
       "0           ты         gt       игра  космический          звук        сеть   \n",
       "1      продукт         lt      игрок      спутник        сигнал      трафик   \n",
       "2       клиент        div    игровой       орбита       наушник       связь   \n",
       "3    сотрудник      class     играть       ракета     усилитель    оператор   \n",
       "4       бизнес       name   персонаж         марс       частота          ip   \n",
       "5  программист       this      steam      аппарат      звуковой    интернет   \n",
       "6         надо      props      unity        земля        музыка         dpi   \n",
       "7     менеджер     return   геймплей         луна     искажение       канал   \n",
       "8           да       html       жанр         наса  акустический     сетевой   \n",
       "9         опыт      value       инди        полёт      звучание  устройство   \n",
       "\n",
       "    Topic # 07  Topic # 08  Topic # 09 Topic # 10     ...       \\\n",
       "0       камера          js       рынок       файл     ...        \n",
       "1   устройство       react  российский        php     ...        \n",
       "2     смартфон         css      страна     docker     ...        \n",
       "3       датчик  javascript      бизнес     сервер     ...        \n",
       "4  аккумулятор     angular      россия       http     ...        \n",
       "5      телефон         веб       рубль       sudo     ...        \n",
       "6        видео         vue       налог      nginx     ...        \n",
       "7        робот     браузер       доход     скрипт     ...        \n",
       "8       корпус   компонент       закон        etc     ...        \n",
       "9        экран         dom      деньга        usr     ...        \n",
       "\n",
       "         Topic # 21 Topic # 22 Topic # 23      Topic # 24  Topic # 25  \\\n",
       "0              язык       сайт     public            дата         бот   \n",
       "1          обучение   страница     string           центр    telegram   \n",
       "2  программирование    реклама       void          сервер   сообщение   \n",
       "3             робот    браузер        new  инфраструктура         чат   \n",
       "4         нейросеть    контент       this        облачный    телеграм   \n",
       "5            лекция     google     return          облако         bot   \n",
       "6              курс      домен    private          услуга         api   \n",
       "7         программа  рекламный        var    оборудование  мессенджер   \n",
       "8           ребёнок     клиент      class          клиент       канал   \n",
       "9          машинный        com      класс             цод     message   \n",
       "\n",
       "         Topic # 26 Topic # 27  Topic # 28 Topic # 29   Topic # 30  \n",
       "0             книга     объект       товар         if           vr  \n",
       "1              часы   значение      скидка        int  виртуальный  \n",
       "2          каковать    элемент     магазин        amp   реальность  \n",
       "3   порекомендовать      метод        цена         lt       oculus  \n",
       "4  профессиональный       блок  распродажа     return         шлем  \n",
       "5             каким     строка  покупатель       else         vive  \n",
       "6      предпочитать      класс     пятница       null          htc  \n",
       "7          бумажный   алгоритм     покупка       char       unreal  \n",
       "8           слушать       файл      чёрный       void    дополнить  \n",
       "9              путь      точка     продажа        std       машина  \n",
       "\n",
       "[10 rows x 30 columns]"
      ]
     },
     "execution_count": 51,
     "metadata": {},
     "output_type": "execute_result"
    }
   ],
   "source": [
    "get_nmf_topics(model, 10)"
   ]
  },
  {
   "cell_type": "markdown",
   "metadata": {},
   "source": [
    "#### Лучше всех среди LDA, наверное, были модели 3 и 5. Темы здесь тоже неплохие. А ещё у меня в какой-то момент была отличная тема про Илона Маска, но та модель потерялась. И про Убер была хорошая тема."
   ]
  },
  {
   "cell_type": "code",
   "execution_count": 55,
   "metadata": {},
   "outputs": [
    {
     "data": {
      "image/png": "[encoded data removed]",
      "text/plain": [
       "<IPython.core.display.Image object>"
      ]
     },
     "execution_count": 55,
     "metadata": {},
     "output_type": "execute_result"
    }
   ],
   "source": [
    "from IPython.display import Image\n",
    "\n",
    "Image(filename='tesla.png') "
   ]
  },
  {
   "cell_type": "code",
   "execution_count": 56,
   "metadata": {},
   "outputs": [
    {
     "data": {
      "image/png": "[encoded data removed]",
      "text/plain": [
       "<IPython.core.display.Image object>"
      ]
     },
     "execution_count": 56,
     "metadata": {},
     "output_type": "execute_result"
    }
   ],
   "source": [
    "Image(filename='uber.png') "
   ]
  }
 ],
 "metadata": {
  "kernelspec": {
   "display_name": "Python 3",
   "language": "python",
   "name": "python3"
  },
  "language_info": {
   "codemirror_mode": {
    "name": "ipython",
    "version": 3
   },
   "file_extension": ".py",
   "mimetype": "text/x-python",
   "name": "python",
   "nbconvert_exporter": "python",
   "pygments_lexer": "ipython3",
   "version": "3.6.4"
  }
 },
 "nbformat": 4,
 "nbformat_minor": 2
}
